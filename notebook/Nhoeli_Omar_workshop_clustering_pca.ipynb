{
  "cells": [
    {
      "cell_type": "markdown",
      "metadata": {
        "id": "C1EQ5G9rQcwE"
      },
      "source": [
        "# Clustering and PCA"
      ]
    },
    {
      "cell_type": "markdown",
      "metadata": {
        "id": "Toc_OzXYQcwH"
      },
      "source": [
        "### Mushroom Dataset\n",
        "\n",
        "Podeis obtener el conjunto de datos en el siguiente enlace:\n",
        "\n",
        "[Mushroom Dataset](https://www.kaggle.com/uciml/mushroom-classification)\n",
        "\n",
        "Como podréis comprobar, hay muchas variables, todas ellas categóricas, por lo que exploraciones con scatterplot no nos serán útiles como en otros casos.\n",
        "\n",
        "La variable a predecir ``class`` es binaria.\n"
      ]
    },
    {
      "cell_type": "code",
      "execution_count": null,
      "metadata": {
        "id": "RWIOS2y_QcwH"
      },
      "outputs": [],
      "source": [
        "# Carga de librerías, las que hemos considerado básicas, añadid lo que queráis :)\n",
        "import pandas as pd\n",
        "import numpy as np\n",
        "import seaborn as sns\n",
        "from sklearn.cluster import KMeans\n",
        "import matplotlib.pyplot as plt\n",
        "from sklearn.model_selection import train_test_split\n",
        "from sklearn.decomposition import PCA\n",
        "from sklearn.preprocessing import OneHotEncoder\n",
        "from sklearn.decomposition import PCA\n",
        "from sklearn.ensemble import RandomForestClassifier\n",
        "from sklearn.metrics import accuracy_score\n",
        "import os\n",
        "from sklearn.cluster import KMeans"
      ]
    },
    {
      "cell_type": "markdown",
      "metadata": {
        "id": "wX5rn4b9E3EP"
      },
      "source": [
        "# <font color=\"#00304E\">**Leer conjunto de datos y primer vistazo.** </font>\n",
        "\n"
      ]
    },
    {
      "cell_type": "code",
      "execution_count": 9,
      "metadata": {},
      "outputs": [],
      "source": [
        "current_dir = os.getcwd() \n",
        "parent_dir = os.path.dirname(current_dir)\n",
        "data_dir = os.path.join(parent_dir, \"data\")\n",
        "file_path = os.path.join(data_dir, \"\")\n",
        "csv_path = os.path.join(data_dir, \"agaricus-lepiota.data\")\n",
        "df = pd.read_csv(csv_path)"
      ]
    },
    {
      "cell_type": "code",
      "execution_count": 11,
      "metadata": {
        "colab": {
          "base_uri": "https://localhost:8080/"
        },
        "id": "Y7WXR3x3iSQU",
        "outputId": "bd3ebf8e-e08f-49c2-d7f9-01a7978f7835"
      },
      "outputs": [
        {
          "name": "stdout",
          "output_type": "stream",
          "text": [
            "<class 'pandas.core.frame.DataFrame'>\n",
            "RangeIndex: 8123 entries, 0 to 8122\n",
            "Data columns (total 23 columns):\n",
            " #   Column  Non-Null Count  Dtype \n",
            "---  ------  --------------  ----- \n",
            " 0   p       8123 non-null   object\n",
            " 1   x       8123 non-null   object\n",
            " 2   s       8123 non-null   object\n",
            " 3   n       8123 non-null   object\n",
            " 4   t       8123 non-null   object\n",
            " 5   p.1     8123 non-null   object\n",
            " 6   f       8123 non-null   object\n",
            " 7   c       8123 non-null   object\n",
            " 8   n.1     8123 non-null   object\n",
            " 9   k       8123 non-null   object\n",
            " 10  e       8123 non-null   object\n",
            " 11  e.1     8123 non-null   object\n",
            " 12  s.1     8123 non-null   object\n",
            " 13  s.2     8123 non-null   object\n",
            " 14  w       8123 non-null   object\n",
            " 15  w.1     8123 non-null   object\n",
            " 16  p.2     8123 non-null   object\n",
            " 17  w.2     8123 non-null   object\n",
            " 18  o       8123 non-null   object\n",
            " 19  p.3     8123 non-null   object\n",
            " 20  k.1     8123 non-null   object\n",
            " 21  s.3     8123 non-null   object\n",
            " 22  u       8123 non-null   object\n",
            "dtypes: object(23)\n",
            "memory usage: 1.4+ MB\n"
          ]
        }
      ],
      "source": [
        "df.info()"
      ]
    },
    {
      "cell_type": "markdown",
      "metadata": {
        "id": "GjzDZ54jWBhl"
      },
      "source": [
        "<font color=\"e5b714\">Vamos a renombrar las columnas como salen en la descripción del dataset, pero 'poisonous' vamos a renombrarla en 'class' , ya que vamos a clasificar en si es comestible o venenoso</font>"
      ]
    },
    {
      "cell_type": "code",
      "execution_count": 12,
      "metadata": {
        "id": "J2ai65cWq66m"
      },
      "outputs": [],
      "source": [
        "column_names = [\n",
        "    'class', 'cap-shape', 'cap-surface', 'cap-color', 'bruises', 'odor',\n",
        "    'gill-attachment', 'gill-spacing', 'gill-size', 'gill-color',\n",
        "    'stalk-shape', 'stalk-root', 'stalk-surface-above-ring', 'stalk-surface-below-ring',\n",
        "    'stalk-color-above-ring', 'stalk-color-below-ring', 'veil-type', 'veil-color',\n",
        "    'ring-number', 'ring-type', 'spore-print-color', 'population', 'habitat'\n",
        "]\n",
        "\n",
        "df.columns = column_names\n"
      ]
    },
    {
      "cell_type": "code",
      "execution_count": 13,
      "metadata": {
        "colab": {
          "base_uri": "https://localhost:8080/",
          "height": 222
        },
        "id": "i6HDMwvAk0N9",
        "outputId": "da853719-9d11-4b44-fbe2-865b2120f6ca"
      },
      "outputs": [
        {
          "data": {
            "application/vnd.microsoft.datawrangler.viewer.v0+json": {
              "columns": [
                {
                  "name": "index",
                  "rawType": "object",
                  "type": "string"
                },
                {
                  "name": "class",
                  "rawType": "object",
                  "type": "unknown"
                },
                {
                  "name": "cap-shape",
                  "rawType": "object",
                  "type": "unknown"
                },
                {
                  "name": "cap-surface",
                  "rawType": "object",
                  "type": "unknown"
                },
                {
                  "name": "cap-color",
                  "rawType": "object",
                  "type": "unknown"
                },
                {
                  "name": "bruises",
                  "rawType": "object",
                  "type": "unknown"
                },
                {
                  "name": "odor",
                  "rawType": "object",
                  "type": "unknown"
                },
                {
                  "name": "gill-attachment",
                  "rawType": "object",
                  "type": "unknown"
                },
                {
                  "name": "gill-spacing",
                  "rawType": "object",
                  "type": "unknown"
                },
                {
                  "name": "gill-size",
                  "rawType": "object",
                  "type": "unknown"
                },
                {
                  "name": "gill-color",
                  "rawType": "object",
                  "type": "unknown"
                },
                {
                  "name": "stalk-shape",
                  "rawType": "object",
                  "type": "unknown"
                },
                {
                  "name": "stalk-root",
                  "rawType": "object",
                  "type": "unknown"
                },
                {
                  "name": "stalk-surface-above-ring",
                  "rawType": "object",
                  "type": "unknown"
                },
                {
                  "name": "stalk-surface-below-ring",
                  "rawType": "object",
                  "type": "unknown"
                },
                {
                  "name": "stalk-color-above-ring",
                  "rawType": "object",
                  "type": "unknown"
                },
                {
                  "name": "stalk-color-below-ring",
                  "rawType": "object",
                  "type": "unknown"
                },
                {
                  "name": "veil-type",
                  "rawType": "object",
                  "type": "unknown"
                },
                {
                  "name": "veil-color",
                  "rawType": "object",
                  "type": "unknown"
                },
                {
                  "name": "ring-number",
                  "rawType": "object",
                  "type": "unknown"
                },
                {
                  "name": "ring-type",
                  "rawType": "object",
                  "type": "unknown"
                },
                {
                  "name": "spore-print-color",
                  "rawType": "object",
                  "type": "unknown"
                },
                {
                  "name": "population",
                  "rawType": "object",
                  "type": "unknown"
                },
                {
                  "name": "habitat",
                  "rawType": "object",
                  "type": "unknown"
                }
              ],
              "ref": "1ad3e696-8924-4de0-bee3-5f91a9ee3f7c",
              "rows": [
                [
                  "count",
                  "8123",
                  "8123",
                  "8123",
                  "8123",
                  "8123",
                  "8123",
                  "8123",
                  "8123",
                  "8123",
                  "8123",
                  "8123",
                  "8123",
                  "8123",
                  "8123",
                  "8123",
                  "8123",
                  "8123",
                  "8123",
                  "8123",
                  "8123",
                  "8123",
                  "8123",
                  "8123"
                ],
                [
                  "unique",
                  "2",
                  "6",
                  "4",
                  "10",
                  "2",
                  "9",
                  "2",
                  "2",
                  "2",
                  "12",
                  "2",
                  "5",
                  "4",
                  "4",
                  "9",
                  "9",
                  "1",
                  "4",
                  "3",
                  "5",
                  "9",
                  "6",
                  "7"
                ],
                [
                  "top",
                  "e",
                  "x",
                  "y",
                  "n",
                  "f",
                  "n",
                  "f",
                  "c",
                  "b",
                  "b",
                  "t",
                  "b",
                  "s",
                  "s",
                  "w",
                  "w",
                  "p",
                  "w",
                  "o",
                  "p",
                  "w",
                  "v",
                  "d"
                ],
                [
                  "freq",
                  "4208",
                  "3655",
                  "3244",
                  "2283",
                  "4748",
                  "3528",
                  "7913",
                  "6811",
                  "5612",
                  "1728",
                  "4608",
                  "3776",
                  "5175",
                  "4935",
                  "4463",
                  "4383",
                  "8123",
                  "7923",
                  "7487",
                  "3967",
                  "2388",
                  "4040",
                  "3148"
                ]
              ],
              "shape": {
                "columns": 23,
                "rows": 4
              }
            },
            "text/html": [
              "<div>\n",
              "<style scoped>\n",
              "    .dataframe tbody tr th:only-of-type {\n",
              "        vertical-align: middle;\n",
              "    }\n",
              "\n",
              "    .dataframe tbody tr th {\n",
              "        vertical-align: top;\n",
              "    }\n",
              "\n",
              "    .dataframe thead th {\n",
              "        text-align: right;\n",
              "    }\n",
              "</style>\n",
              "<table border=\"1\" class=\"dataframe\">\n",
              "  <thead>\n",
              "    <tr style=\"text-align: right;\">\n",
              "      <th></th>\n",
              "      <th>class</th>\n",
              "      <th>cap-shape</th>\n",
              "      <th>cap-surface</th>\n",
              "      <th>cap-color</th>\n",
              "      <th>bruises</th>\n",
              "      <th>odor</th>\n",
              "      <th>gill-attachment</th>\n",
              "      <th>gill-spacing</th>\n",
              "      <th>gill-size</th>\n",
              "      <th>gill-color</th>\n",
              "      <th>...</th>\n",
              "      <th>stalk-surface-below-ring</th>\n",
              "      <th>stalk-color-above-ring</th>\n",
              "      <th>stalk-color-below-ring</th>\n",
              "      <th>veil-type</th>\n",
              "      <th>veil-color</th>\n",
              "      <th>ring-number</th>\n",
              "      <th>ring-type</th>\n",
              "      <th>spore-print-color</th>\n",
              "      <th>population</th>\n",
              "      <th>habitat</th>\n",
              "    </tr>\n",
              "  </thead>\n",
              "  <tbody>\n",
              "    <tr>\n",
              "      <th>count</th>\n",
              "      <td>8123</td>\n",
              "      <td>8123</td>\n",
              "      <td>8123</td>\n",
              "      <td>8123</td>\n",
              "      <td>8123</td>\n",
              "      <td>8123</td>\n",
              "      <td>8123</td>\n",
              "      <td>8123</td>\n",
              "      <td>8123</td>\n",
              "      <td>8123</td>\n",
              "      <td>...</td>\n",
              "      <td>8123</td>\n",
              "      <td>8123</td>\n",
              "      <td>8123</td>\n",
              "      <td>8123</td>\n",
              "      <td>8123</td>\n",
              "      <td>8123</td>\n",
              "      <td>8123</td>\n",
              "      <td>8123</td>\n",
              "      <td>8123</td>\n",
              "      <td>8123</td>\n",
              "    </tr>\n",
              "    <tr>\n",
              "      <th>unique</th>\n",
              "      <td>2</td>\n",
              "      <td>6</td>\n",
              "      <td>4</td>\n",
              "      <td>10</td>\n",
              "      <td>2</td>\n",
              "      <td>9</td>\n",
              "      <td>2</td>\n",
              "      <td>2</td>\n",
              "      <td>2</td>\n",
              "      <td>12</td>\n",
              "      <td>...</td>\n",
              "      <td>4</td>\n",
              "      <td>9</td>\n",
              "      <td>9</td>\n",
              "      <td>1</td>\n",
              "      <td>4</td>\n",
              "      <td>3</td>\n",
              "      <td>5</td>\n",
              "      <td>9</td>\n",
              "      <td>6</td>\n",
              "      <td>7</td>\n",
              "    </tr>\n",
              "    <tr>\n",
              "      <th>top</th>\n",
              "      <td>e</td>\n",
              "      <td>x</td>\n",
              "      <td>y</td>\n",
              "      <td>n</td>\n",
              "      <td>f</td>\n",
              "      <td>n</td>\n",
              "      <td>f</td>\n",
              "      <td>c</td>\n",
              "      <td>b</td>\n",
              "      <td>b</td>\n",
              "      <td>...</td>\n",
              "      <td>s</td>\n",
              "      <td>w</td>\n",
              "      <td>w</td>\n",
              "      <td>p</td>\n",
              "      <td>w</td>\n",
              "      <td>o</td>\n",
              "      <td>p</td>\n",
              "      <td>w</td>\n",
              "      <td>v</td>\n",
              "      <td>d</td>\n",
              "    </tr>\n",
              "    <tr>\n",
              "      <th>freq</th>\n",
              "      <td>4208</td>\n",
              "      <td>3655</td>\n",
              "      <td>3244</td>\n",
              "      <td>2283</td>\n",
              "      <td>4748</td>\n",
              "      <td>3528</td>\n",
              "      <td>7913</td>\n",
              "      <td>6811</td>\n",
              "      <td>5612</td>\n",
              "      <td>1728</td>\n",
              "      <td>...</td>\n",
              "      <td>4935</td>\n",
              "      <td>4463</td>\n",
              "      <td>4383</td>\n",
              "      <td>8123</td>\n",
              "      <td>7923</td>\n",
              "      <td>7487</td>\n",
              "      <td>3967</td>\n",
              "      <td>2388</td>\n",
              "      <td>4040</td>\n",
              "      <td>3148</td>\n",
              "    </tr>\n",
              "  </tbody>\n",
              "</table>\n",
              "<p>4 rows × 23 columns</p>\n",
              "</div>"
            ],
            "text/plain": [
              "       class cap-shape cap-surface cap-color bruises  odor gill-attachment  \\\n",
              "count   8123      8123        8123      8123    8123  8123            8123   \n",
              "unique     2         6           4        10       2     9               2   \n",
              "top        e         x           y         n       f     n               f   \n",
              "freq    4208      3655        3244      2283    4748  3528            7913   \n",
              "\n",
              "       gill-spacing gill-size gill-color  ... stalk-surface-below-ring  \\\n",
              "count          8123      8123       8123  ...                     8123   \n",
              "unique            2         2         12  ...                        4   \n",
              "top               c         b          b  ...                        s   \n",
              "freq           6811      5612       1728  ...                     4935   \n",
              "\n",
              "       stalk-color-above-ring stalk-color-below-ring veil-type veil-color  \\\n",
              "count                    8123                   8123      8123       8123   \n",
              "unique                      9                      9         1          4   \n",
              "top                         w                      w         p          w   \n",
              "freq                     4463                   4383      8123       7923   \n",
              "\n",
              "       ring-number ring-type spore-print-color population habitat  \n",
              "count         8123      8123              8123       8123    8123  \n",
              "unique           3         5                 9          6       7  \n",
              "top              o         p                 w          v       d  \n",
              "freq          7487      3967              2388       4040    3148  \n",
              "\n",
              "[4 rows x 23 columns]"
            ]
          },
          "execution_count": 13,
          "metadata": {},
          "output_type": "execute_result"
        }
      ],
      "source": [
        "df.describe()"
      ]
    },
    {
      "cell_type": "markdown",
      "metadata": {
        "id": "GKoe_MY5WmFe"
      },
      "source": [
        "<font color=\"e5b714\">Vemos las 5 primeras filas </font>"
      ]
    },
    {
      "cell_type": "code",
      "execution_count": 14,
      "metadata": {
        "colab": {
          "base_uri": "https://localhost:8080/",
          "height": 253
        },
        "id": "TmfVZFkNmhTg",
        "outputId": "345bcfee-d6eb-4ffb-c841-b0a53409a4ff"
      },
      "outputs": [
        {
          "data": {
            "application/vnd.microsoft.datawrangler.viewer.v0+json": {
              "columns": [
                {
                  "name": "index",
                  "rawType": "int64",
                  "type": "integer"
                },
                {
                  "name": "class",
                  "rawType": "object",
                  "type": "string"
                },
                {
                  "name": "cap-shape",
                  "rawType": "object",
                  "type": "string"
                },
                {
                  "name": "cap-surface",
                  "rawType": "object",
                  "type": "string"
                },
                {
                  "name": "cap-color",
                  "rawType": "object",
                  "type": "string"
                },
                {
                  "name": "bruises",
                  "rawType": "object",
                  "type": "string"
                },
                {
                  "name": "odor",
                  "rawType": "object",
                  "type": "string"
                },
                {
                  "name": "gill-attachment",
                  "rawType": "object",
                  "type": "string"
                },
                {
                  "name": "gill-spacing",
                  "rawType": "object",
                  "type": "string"
                },
                {
                  "name": "gill-size",
                  "rawType": "object",
                  "type": "string"
                },
                {
                  "name": "gill-color",
                  "rawType": "object",
                  "type": "string"
                },
                {
                  "name": "stalk-shape",
                  "rawType": "object",
                  "type": "string"
                },
                {
                  "name": "stalk-root",
                  "rawType": "object",
                  "type": "string"
                },
                {
                  "name": "stalk-surface-above-ring",
                  "rawType": "object",
                  "type": "string"
                },
                {
                  "name": "stalk-surface-below-ring",
                  "rawType": "object",
                  "type": "string"
                },
                {
                  "name": "stalk-color-above-ring",
                  "rawType": "object",
                  "type": "string"
                },
                {
                  "name": "stalk-color-below-ring",
                  "rawType": "object",
                  "type": "string"
                },
                {
                  "name": "veil-type",
                  "rawType": "object",
                  "type": "string"
                },
                {
                  "name": "veil-color",
                  "rawType": "object",
                  "type": "string"
                },
                {
                  "name": "ring-number",
                  "rawType": "object",
                  "type": "string"
                },
                {
                  "name": "ring-type",
                  "rawType": "object",
                  "type": "string"
                },
                {
                  "name": "spore-print-color",
                  "rawType": "object",
                  "type": "string"
                },
                {
                  "name": "population",
                  "rawType": "object",
                  "type": "string"
                },
                {
                  "name": "habitat",
                  "rawType": "object",
                  "type": "string"
                }
              ],
              "ref": "2f6c8e73-f69e-4e57-b54d-d37cad467b52",
              "rows": [
                [
                  "0",
                  "e",
                  "x",
                  "s",
                  "y",
                  "t",
                  "a",
                  "f",
                  "c",
                  "b",
                  "k",
                  "e",
                  "c",
                  "s",
                  "s",
                  "w",
                  "w",
                  "p",
                  "w",
                  "o",
                  "p",
                  "n",
                  "n",
                  "g"
                ],
                [
                  "1",
                  "e",
                  "b",
                  "s",
                  "w",
                  "t",
                  "l",
                  "f",
                  "c",
                  "b",
                  "n",
                  "e",
                  "c",
                  "s",
                  "s",
                  "w",
                  "w",
                  "p",
                  "w",
                  "o",
                  "p",
                  "n",
                  "n",
                  "m"
                ],
                [
                  "2",
                  "p",
                  "x",
                  "y",
                  "w",
                  "t",
                  "p",
                  "f",
                  "c",
                  "n",
                  "n",
                  "e",
                  "e",
                  "s",
                  "s",
                  "w",
                  "w",
                  "p",
                  "w",
                  "o",
                  "p",
                  "k",
                  "s",
                  "u"
                ],
                [
                  "3",
                  "e",
                  "x",
                  "s",
                  "g",
                  "f",
                  "n",
                  "f",
                  "w",
                  "b",
                  "k",
                  "t",
                  "e",
                  "s",
                  "s",
                  "w",
                  "w",
                  "p",
                  "w",
                  "o",
                  "e",
                  "n",
                  "a",
                  "g"
                ],
                [
                  "4",
                  "e",
                  "x",
                  "y",
                  "y",
                  "t",
                  "a",
                  "f",
                  "c",
                  "b",
                  "n",
                  "e",
                  "c",
                  "s",
                  "s",
                  "w",
                  "w",
                  "p",
                  "w",
                  "o",
                  "p",
                  "k",
                  "n",
                  "g"
                ]
              ],
              "shape": {
                "columns": 23,
                "rows": 5
              }
            },
            "text/html": [
              "<div>\n",
              "<style scoped>\n",
              "    .dataframe tbody tr th:only-of-type {\n",
              "        vertical-align: middle;\n",
              "    }\n",
              "\n",
              "    .dataframe tbody tr th {\n",
              "        vertical-align: top;\n",
              "    }\n",
              "\n",
              "    .dataframe thead th {\n",
              "        text-align: right;\n",
              "    }\n",
              "</style>\n",
              "<table border=\"1\" class=\"dataframe\">\n",
              "  <thead>\n",
              "    <tr style=\"text-align: right;\">\n",
              "      <th></th>\n",
              "      <th>class</th>\n",
              "      <th>cap-shape</th>\n",
              "      <th>cap-surface</th>\n",
              "      <th>cap-color</th>\n",
              "      <th>bruises</th>\n",
              "      <th>odor</th>\n",
              "      <th>gill-attachment</th>\n",
              "      <th>gill-spacing</th>\n",
              "      <th>gill-size</th>\n",
              "      <th>gill-color</th>\n",
              "      <th>...</th>\n",
              "      <th>stalk-surface-below-ring</th>\n",
              "      <th>stalk-color-above-ring</th>\n",
              "      <th>stalk-color-below-ring</th>\n",
              "      <th>veil-type</th>\n",
              "      <th>veil-color</th>\n",
              "      <th>ring-number</th>\n",
              "      <th>ring-type</th>\n",
              "      <th>spore-print-color</th>\n",
              "      <th>population</th>\n",
              "      <th>habitat</th>\n",
              "    </tr>\n",
              "  </thead>\n",
              "  <tbody>\n",
              "    <tr>\n",
              "      <th>0</th>\n",
              "      <td>e</td>\n",
              "      <td>x</td>\n",
              "      <td>s</td>\n",
              "      <td>y</td>\n",
              "      <td>t</td>\n",
              "      <td>a</td>\n",
              "      <td>f</td>\n",
              "      <td>c</td>\n",
              "      <td>b</td>\n",
              "      <td>k</td>\n",
              "      <td>...</td>\n",
              "      <td>s</td>\n",
              "      <td>w</td>\n",
              "      <td>w</td>\n",
              "      <td>p</td>\n",
              "      <td>w</td>\n",
              "      <td>o</td>\n",
              "      <td>p</td>\n",
              "      <td>n</td>\n",
              "      <td>n</td>\n",
              "      <td>g</td>\n",
              "    </tr>\n",
              "    <tr>\n",
              "      <th>1</th>\n",
              "      <td>e</td>\n",
              "      <td>b</td>\n",
              "      <td>s</td>\n",
              "      <td>w</td>\n",
              "      <td>t</td>\n",
              "      <td>l</td>\n",
              "      <td>f</td>\n",
              "      <td>c</td>\n",
              "      <td>b</td>\n",
              "      <td>n</td>\n",
              "      <td>...</td>\n",
              "      <td>s</td>\n",
              "      <td>w</td>\n",
              "      <td>w</td>\n",
              "      <td>p</td>\n",
              "      <td>w</td>\n",
              "      <td>o</td>\n",
              "      <td>p</td>\n",
              "      <td>n</td>\n",
              "      <td>n</td>\n",
              "      <td>m</td>\n",
              "    </tr>\n",
              "    <tr>\n",
              "      <th>2</th>\n",
              "      <td>p</td>\n",
              "      <td>x</td>\n",
              "      <td>y</td>\n",
              "      <td>w</td>\n",
              "      <td>t</td>\n",
              "      <td>p</td>\n",
              "      <td>f</td>\n",
              "      <td>c</td>\n",
              "      <td>n</td>\n",
              "      <td>n</td>\n",
              "      <td>...</td>\n",
              "      <td>s</td>\n",
              "      <td>w</td>\n",
              "      <td>w</td>\n",
              "      <td>p</td>\n",
              "      <td>w</td>\n",
              "      <td>o</td>\n",
              "      <td>p</td>\n",
              "      <td>k</td>\n",
              "      <td>s</td>\n",
              "      <td>u</td>\n",
              "    </tr>\n",
              "    <tr>\n",
              "      <th>3</th>\n",
              "      <td>e</td>\n",
              "      <td>x</td>\n",
              "      <td>s</td>\n",
              "      <td>g</td>\n",
              "      <td>f</td>\n",
              "      <td>n</td>\n",
              "      <td>f</td>\n",
              "      <td>w</td>\n",
              "      <td>b</td>\n",
              "      <td>k</td>\n",
              "      <td>...</td>\n",
              "      <td>s</td>\n",
              "      <td>w</td>\n",
              "      <td>w</td>\n",
              "      <td>p</td>\n",
              "      <td>w</td>\n",
              "      <td>o</td>\n",
              "      <td>e</td>\n",
              "      <td>n</td>\n",
              "      <td>a</td>\n",
              "      <td>g</td>\n",
              "    </tr>\n",
              "    <tr>\n",
              "      <th>4</th>\n",
              "      <td>e</td>\n",
              "      <td>x</td>\n",
              "      <td>y</td>\n",
              "      <td>y</td>\n",
              "      <td>t</td>\n",
              "      <td>a</td>\n",
              "      <td>f</td>\n",
              "      <td>c</td>\n",
              "      <td>b</td>\n",
              "      <td>n</td>\n",
              "      <td>...</td>\n",
              "      <td>s</td>\n",
              "      <td>w</td>\n",
              "      <td>w</td>\n",
              "      <td>p</td>\n",
              "      <td>w</td>\n",
              "      <td>o</td>\n",
              "      <td>p</td>\n",
              "      <td>k</td>\n",
              "      <td>n</td>\n",
              "      <td>g</td>\n",
              "    </tr>\n",
              "  </tbody>\n",
              "</table>\n",
              "<p>5 rows × 23 columns</p>\n",
              "</div>"
            ],
            "text/plain": [
              "  class cap-shape cap-surface cap-color bruises odor gill-attachment  \\\n",
              "0     e         x           s         y       t    a               f   \n",
              "1     e         b           s         w       t    l               f   \n",
              "2     p         x           y         w       t    p               f   \n",
              "3     e         x           s         g       f    n               f   \n",
              "4     e         x           y         y       t    a               f   \n",
              "\n",
              "  gill-spacing gill-size gill-color  ... stalk-surface-below-ring  \\\n",
              "0            c         b          k  ...                        s   \n",
              "1            c         b          n  ...                        s   \n",
              "2            c         n          n  ...                        s   \n",
              "3            w         b          k  ...                        s   \n",
              "4            c         b          n  ...                        s   \n",
              "\n",
              "  stalk-color-above-ring stalk-color-below-ring veil-type veil-color  \\\n",
              "0                      w                      w         p          w   \n",
              "1                      w                      w         p          w   \n",
              "2                      w                      w         p          w   \n",
              "3                      w                      w         p          w   \n",
              "4                      w                      w         p          w   \n",
              "\n",
              "  ring-number ring-type spore-print-color population habitat  \n",
              "0           o         p                 n          n       g  \n",
              "1           o         p                 n          n       m  \n",
              "2           o         p                 k          s       u  \n",
              "3           o         e                 n          a       g  \n",
              "4           o         p                 k          n       g  \n",
              "\n",
              "[5 rows x 23 columns]"
            ]
          },
          "execution_count": 14,
          "metadata": {},
          "output_type": "execute_result"
        }
      ],
      "source": [
        "df.head(5)"
      ]
    },
    {
      "cell_type": "markdown",
      "metadata": {
        "id": "dePM9qXKQcwJ"
      },
      "source": [
        "# <font color=\"#00304E\">**Exploración de datos** </font>"
      ]
    },
    {
      "cell_type": "markdown",
      "metadata": {
        "id": "iU9bQurZrTdY"
      },
      "source": [
        "\n",
        "<font color=\"e5b714\">Descripción Dataset: Este Dataset contiene 8124 instancias y 23 features con datos sobre diversas propiedades de los hongos, como su color, forma, olor y su hábitat, el objetivo es predecir si son comestibles o venenosas.\n",
        "\n",
        "Todos los datos son categóricos, tipo object.</font>"
      ]
    },
    {
      "cell_type": "markdown",
      "metadata": {
        "id": "Md7i8gXBQcwJ"
      },
      "source": [
        "**Calcular el número de nulos de cada feature**"
      ]
    },
    {
      "cell_type": "code",
      "execution_count": 15,
      "metadata": {
        "colab": {
          "base_uri": "https://localhost:8080/",
          "height": 805
        },
        "id": "1me6pfrkskLo",
        "outputId": "a35e3c4b-d84f-4560-fb8c-1f31a4f46a13"
      },
      "outputs": [
        {
          "data": {
            "application/vnd.microsoft.datawrangler.viewer.v0+json": {
              "columns": [
                {
                  "name": "index",
                  "rawType": "object",
                  "type": "string"
                },
                {
                  "name": "0",
                  "rawType": "int64",
                  "type": "integer"
                }
              ],
              "ref": "e4020053-3f66-4bd6-8909-010cfbf93a08",
              "rows": [
                [
                  "class",
                  "0"
                ],
                [
                  "cap-shape",
                  "0"
                ],
                [
                  "cap-surface",
                  "0"
                ],
                [
                  "cap-color",
                  "0"
                ],
                [
                  "bruises",
                  "0"
                ],
                [
                  "odor",
                  "0"
                ],
                [
                  "gill-attachment",
                  "0"
                ],
                [
                  "gill-spacing",
                  "0"
                ],
                [
                  "gill-size",
                  "0"
                ],
                [
                  "gill-color",
                  "0"
                ],
                [
                  "stalk-shape",
                  "0"
                ],
                [
                  "stalk-root",
                  "0"
                ],
                [
                  "stalk-surface-above-ring",
                  "0"
                ],
                [
                  "stalk-surface-below-ring",
                  "0"
                ],
                [
                  "stalk-color-above-ring",
                  "0"
                ],
                [
                  "stalk-color-below-ring",
                  "0"
                ],
                [
                  "veil-type",
                  "0"
                ],
                [
                  "veil-color",
                  "0"
                ],
                [
                  "ring-number",
                  "0"
                ],
                [
                  "ring-type",
                  "0"
                ],
                [
                  "spore-print-color",
                  "0"
                ],
                [
                  "population",
                  "0"
                ],
                [
                  "habitat",
                  "0"
                ]
              ],
              "shape": {
                "columns": 1,
                "rows": 23
              }
            },
            "text/plain": [
              "class                       0\n",
              "cap-shape                   0\n",
              "cap-surface                 0\n",
              "cap-color                   0\n",
              "bruises                     0\n",
              "odor                        0\n",
              "gill-attachment             0\n",
              "gill-spacing                0\n",
              "gill-size                   0\n",
              "gill-color                  0\n",
              "stalk-shape                 0\n",
              "stalk-root                  0\n",
              "stalk-surface-above-ring    0\n",
              "stalk-surface-below-ring    0\n",
              "stalk-color-above-ring      0\n",
              "stalk-color-below-ring      0\n",
              "veil-type                   0\n",
              "veil-color                  0\n",
              "ring-number                 0\n",
              "ring-type                   0\n",
              "spore-print-color           0\n",
              "population                  0\n",
              "habitat                     0\n",
              "dtype: int64"
            ]
          },
          "execution_count": 15,
          "metadata": {},
          "output_type": "execute_result"
        }
      ],
      "source": [
        "df.isnull().sum()"
      ]
    },
    {
      "cell_type": "markdown",
      "metadata": {
        "id": "v2BHNmFtuBH9"
      },
      "source": [
        "<font color=\"e5b714\">No hay valores nulos aparentemente, pero en la descripción salía que podía haber '?' , así que vamos a comprobarlo:</font>"
      ]
    },
    {
      "cell_type": "code",
      "execution_count": 16,
      "metadata": {
        "colab": {
          "base_uri": "https://localhost:8080/",
          "height": 805
        },
        "id": "L2GLu706sskO",
        "outputId": "af1a0207-fba7-492a-c586-3cc537a6e5f8"
      },
      "outputs": [
        {
          "data": {
            "application/vnd.microsoft.datawrangler.viewer.v0+json": {
              "columns": [
                {
                  "name": "index",
                  "rawType": "object",
                  "type": "string"
                },
                {
                  "name": "0",
                  "rawType": "int64",
                  "type": "integer"
                }
              ],
              "ref": "ecf98114-5de6-4ad0-9d82-7a261dc2e0f7",
              "rows": [
                [
                  "class",
                  "0"
                ],
                [
                  "cap-shape",
                  "0"
                ],
                [
                  "cap-surface",
                  "0"
                ],
                [
                  "cap-color",
                  "0"
                ],
                [
                  "bruises",
                  "0"
                ],
                [
                  "odor",
                  "0"
                ],
                [
                  "gill-attachment",
                  "0"
                ],
                [
                  "gill-spacing",
                  "0"
                ],
                [
                  "gill-size",
                  "0"
                ],
                [
                  "gill-color",
                  "0"
                ],
                [
                  "stalk-shape",
                  "0"
                ],
                [
                  "stalk-root",
                  "2480"
                ],
                [
                  "stalk-surface-above-ring",
                  "0"
                ],
                [
                  "stalk-surface-below-ring",
                  "0"
                ],
                [
                  "stalk-color-above-ring",
                  "0"
                ],
                [
                  "stalk-color-below-ring",
                  "0"
                ],
                [
                  "veil-type",
                  "0"
                ],
                [
                  "veil-color",
                  "0"
                ],
                [
                  "ring-number",
                  "0"
                ],
                [
                  "ring-type",
                  "0"
                ],
                [
                  "spore-print-color",
                  "0"
                ],
                [
                  "population",
                  "0"
                ],
                [
                  "habitat",
                  "0"
                ]
              ],
              "shape": {
                "columns": 1,
                "rows": 23
              }
            },
            "text/plain": [
              "class                          0\n",
              "cap-shape                      0\n",
              "cap-surface                    0\n",
              "cap-color                      0\n",
              "bruises                        0\n",
              "odor                           0\n",
              "gill-attachment                0\n",
              "gill-spacing                   0\n",
              "gill-size                      0\n",
              "gill-color                     0\n",
              "stalk-shape                    0\n",
              "stalk-root                  2480\n",
              "stalk-surface-above-ring       0\n",
              "stalk-surface-below-ring       0\n",
              "stalk-color-above-ring         0\n",
              "stalk-color-below-ring         0\n",
              "veil-type                      0\n",
              "veil-color                     0\n",
              "ring-number                    0\n",
              "ring-type                      0\n",
              "spore-print-color              0\n",
              "population                     0\n",
              "habitat                        0\n",
              "dtype: int64"
            ]
          },
          "execution_count": 16,
          "metadata": {},
          "output_type": "execute_result"
        }
      ],
      "source": [
        "\n",
        "df.isin(['?']).sum()\n"
      ]
    },
    {
      "cell_type": "markdown",
      "metadata": {
        "id": "q3bg7qZWuM37"
      },
      "source": [
        "\n",
        "<font color=\"e5b714\">Vemos que la columna stalk-root tiene 2480 valores ? , será mejor tratarlos como nulos.</font>"
      ]
    },
    {
      "cell_type": "code",
      "execution_count": 17,
      "metadata": {
        "id": "rDMAGeUXt0bK"
      },
      "outputs": [],
      "source": [
        "df.replace('?', pd.NA, inplace=True)"
      ]
    },
    {
      "cell_type": "code",
      "execution_count": 18,
      "metadata": {
        "colab": {
          "base_uri": "https://localhost:8080/",
          "height": 805
        },
        "id": "38UpN2But2T0",
        "outputId": "9ffd995b-1870-4128-bf53-7d2f31c78533"
      },
      "outputs": [
        {
          "data": {
            "application/vnd.microsoft.datawrangler.viewer.v0+json": {
              "columns": [
                {
                  "name": "index",
                  "rawType": "object",
                  "type": "string"
                },
                {
                  "name": "0",
                  "rawType": "int64",
                  "type": "integer"
                }
              ],
              "ref": "8f698e11-e9f1-4b02-a002-a53f4c5fbafe",
              "rows": [
                [
                  "class",
                  "0"
                ],
                [
                  "cap-shape",
                  "0"
                ],
                [
                  "cap-surface",
                  "0"
                ],
                [
                  "cap-color",
                  "0"
                ],
                [
                  "bruises",
                  "0"
                ],
                [
                  "odor",
                  "0"
                ],
                [
                  "gill-attachment",
                  "0"
                ],
                [
                  "gill-spacing",
                  "0"
                ],
                [
                  "gill-size",
                  "0"
                ],
                [
                  "gill-color",
                  "0"
                ],
                [
                  "stalk-shape",
                  "0"
                ],
                [
                  "stalk-root",
                  "2480"
                ],
                [
                  "stalk-surface-above-ring",
                  "0"
                ],
                [
                  "stalk-surface-below-ring",
                  "0"
                ],
                [
                  "stalk-color-above-ring",
                  "0"
                ],
                [
                  "stalk-color-below-ring",
                  "0"
                ],
                [
                  "veil-type",
                  "0"
                ],
                [
                  "veil-color",
                  "0"
                ],
                [
                  "ring-number",
                  "0"
                ],
                [
                  "ring-type",
                  "0"
                ],
                [
                  "spore-print-color",
                  "0"
                ],
                [
                  "population",
                  "0"
                ],
                [
                  "habitat",
                  "0"
                ]
              ],
              "shape": {
                "columns": 1,
                "rows": 23
              }
            },
            "text/plain": [
              "class                          0\n",
              "cap-shape                      0\n",
              "cap-surface                    0\n",
              "cap-color                      0\n",
              "bruises                        0\n",
              "odor                           0\n",
              "gill-attachment                0\n",
              "gill-spacing                   0\n",
              "gill-size                      0\n",
              "gill-color                     0\n",
              "stalk-shape                    0\n",
              "stalk-root                  2480\n",
              "stalk-surface-above-ring       0\n",
              "stalk-surface-below-ring       0\n",
              "stalk-color-above-ring         0\n",
              "stalk-color-below-ring         0\n",
              "veil-type                      0\n",
              "veil-color                     0\n",
              "ring-number                    0\n",
              "ring-type                      0\n",
              "spore-print-color              0\n",
              "population                     0\n",
              "habitat                        0\n",
              "dtype: int64"
            ]
          },
          "execution_count": 18,
          "metadata": {},
          "output_type": "execute_result"
        }
      ],
      "source": [
        "df.isnull().sum()"
      ]
    },
    {
      "cell_type": "markdown",
      "metadata": {
        "id": "MJv-ez3WQcwK"
      },
      "source": [
        "**Buscar valores extraños. Para ello, ver los valores únicos en cada feature**"
      ]
    },
    {
      "cell_type": "markdown",
      "metadata": {
        "id": "JxQwVtVnWqpF"
      },
      "source": [
        "<font color=\"e5b714\">Obtenemos un nuevo dataframe de dos columnas donde en la primera están las features (features) y en la otra los valores únicos\n",
        "asociados (n_values)</font>"
      ]
    },
    {
      "cell_type": "code",
      "execution_count": 19,
      "metadata": {
        "colab": {
          "base_uri": "https://localhost:8080/"
        },
        "id": "tY-Iq8RCu5FM",
        "outputId": "4d3da5b3-eaee-4d0e-b62f-66b1291add51"
      },
      "outputs": [
        {
          "name": "stdout",
          "output_type": "stream",
          "text": [
            "                    features                              n_values\n",
            "0                      class                                [e, p]\n",
            "1                  cap-shape                    [x, b, s, f, k, c]\n",
            "2                cap-surface                          [s, y, f, g]\n",
            "3                  cap-color        [y, w, g, n, e, p, b, u, c, r]\n",
            "4                    bruises                                [t, f]\n",
            "5                       odor           [a, l, p, n, f, c, y, s, m]\n",
            "6            gill-attachment                                [f, a]\n",
            "7               gill-spacing                                [c, w]\n",
            "8                  gill-size                                [b, n]\n",
            "9                 gill-color  [k, n, g, p, w, h, u, e, b, r, y, o]\n",
            "10               stalk-shape                                [e, t]\n",
            "11                stalk-root                    [c, e, b, r, <NA>]\n",
            "12  stalk-surface-above-ring                          [s, f, k, y]\n",
            "13  stalk-surface-below-ring                          [s, f, y, k]\n",
            "14    stalk-color-above-ring           [w, g, p, n, b, e, o, c, y]\n",
            "15    stalk-color-below-ring           [w, p, g, b, n, e, y, o, c]\n",
            "16                 veil-type                                   [p]\n",
            "17                veil-color                          [w, n, o, y]\n",
            "18               ring-number                             [o, t, n]\n",
            "19                 ring-type                       [p, e, l, f, n]\n",
            "20         spore-print-color           [n, k, u, h, w, r, o, y, b]\n",
            "21                population                    [n, s, a, v, y, c]\n",
            "22                   habitat                 [g, m, u, d, p, w, l]\n"
          ]
        }
      ],
      "source": [
        "df_uniques = pd.DataFrame({\n",
        "    'features': df.columns,\n",
        "    'n_values': [df[col].unique().tolist() for col in df.columns]\n",
        "})\n",
        "print(df_uniques)"
      ]
    },
    {
      "cell_type": "markdown",
      "metadata": {
        "id": "YXIyz_tdQcwK"
      },
      "source": [
        "\n",
        "## <font color=\"#00304E\">**Tratar aquellos valores que entendamos que sean nulos** </font>"
      ]
    },
    {
      "cell_type": "code",
      "execution_count": 12,
      "metadata": {
        "id": "OVQnxK1gQcwK"
      },
      "outputs": [],
      "source": [
        "# Imputaciones. Podéis quitar esos puntos (fila entera), imputar con la moda o dejar ese valor como una posibilidad más."
      ]
    },
    {
      "cell_type": "code",
      "execution_count": 20,
      "metadata": {
        "colab": {
          "base_uri": "https://localhost:8080/"
        },
        "id": "9eAiq6hjBBLp",
        "outputId": "1d257105-e4ff-4e19-f35b-41ff192fc3fd"
      },
      "outputs": [
        {
          "name": "stdout",
          "output_type": "stream",
          "text": [
            "stalk-root\n",
            "b       3776\n",
            "<NA>    2480\n",
            "e       1119\n",
            "c        556\n",
            "r        192\n",
            "Name: count, dtype: int64\n"
          ]
        }
      ],
      "source": [
        "\n",
        "print(df['stalk-root'].value_counts(dropna=False))\n"
      ]
    },
    {
      "cell_type": "markdown",
      "metadata": {
        "id": "Ekjb0YGAGZ2W"
      },
      "source": [
        "<font color=\"e5b714\">Conclusión: Vemos que la cantidad de nulos en stalk-root (tipo de raiz), es muy alto, pero no creo que la mejor opción sea imputarlo por la moda ya que corremos el riesgo de sesgar una cantidad grande de datos, podríamos crear una opción nueva como desconocido o faltante, porque tampoco soy partidaria de eliminarlos ya que me parecen relevantes porque es una característica morfológica de las setas que nos puede ayudar en la clasificación.</font>"
      ]
    },
    {
      "cell_type": "code",
      "execution_count": 21,
      "metadata": {
        "colab": {
          "base_uri": "https://localhost:8080/"
        },
        "id": "HN835ra9JUR8",
        "outputId": "11a643ce-b2c3-4cb6-8c87-e591f4a72432"
      },
      "outputs": [
        {
          "name": "stdout",
          "output_type": "stream",
          "text": [
            "['c' 'e' 'b' 'r' 'unknow']\n"
          ]
        }
      ],
      "source": [
        "df['stalk-root']=df['stalk-root'].fillna('unknow')\n",
        "print(df['stalk-root'].unique())"
      ]
    },
    {
      "cell_type": "markdown",
      "metadata": {
        "id": "8dbmx1Z7QcwK"
      },
      "source": [
        "\n",
        "### <font color=\"#00304E\">**Mirad cuántos valores hay en cada feature, ¿Todas las features aportan información? Si alguna no aporta información, eliminadla** </font>"
      ]
    },
    {
      "cell_type": "code",
      "execution_count": null,
      "metadata": {
        "id": "ts2xeUavQcwK"
      },
      "outputs": [],
      "source": [
        "# Dejar por el camino si procede."
      ]
    },
    {
      "cell_type": "code",
      "execution_count": 22,
      "metadata": {
        "colab": {
          "base_uri": "https://localhost:8080/"
        },
        "id": "JZ84RjqQL910",
        "outputId": "16f557d6-2014-4af5-8d98-6fead6283e9a"
      },
      "outputs": [
        {
          "name": "stdout",
          "output_type": "stream",
          "text": [
            "class                        2\n",
            "cap-shape                    6\n",
            "cap-surface                  4\n",
            "cap-color                   10\n",
            "bruises                      2\n",
            "odor                         9\n",
            "gill-attachment              2\n",
            "gill-spacing                 2\n",
            "gill-size                    2\n",
            "gill-color                  12\n",
            "stalk-shape                  2\n",
            "stalk-root                   5\n",
            "stalk-surface-above-ring     4\n",
            "stalk-surface-below-ring     4\n",
            "stalk-color-above-ring       9\n",
            "stalk-color-below-ring       9\n",
            "veil-type                    1\n",
            "veil-color                   4\n",
            "ring-number                  3\n",
            "ring-type                    5\n",
            "spore-print-color            9\n",
            "population                   6\n",
            "habitat                      7\n",
            "dtype: int64\n"
          ]
        }
      ],
      "source": [
        "counts_features = df.nunique()\n",
        "print(counts_features)"
      ]
    },
    {
      "cell_type": "markdown",
      "metadata": {
        "id": "s2Gd_UUZMWRy"
      },
      "source": [
        "<font color=\"e5b714\">Conclusión: La variable veil-type tiene un solo valor, no nos va a aportar nada ya que siempre es igual, no estoy muy a favor de eliminar nada pero en este caso no aporta, así que procedemos a eliminarla.</font>"
      ]
    },
    {
      "cell_type": "code",
      "execution_count": 23,
      "metadata": {
        "id": "n7QS3hXtOchC"
      },
      "outputs": [],
      "source": [
        "df = df.drop(columns=['veil-type'])"
      ]
    },
    {
      "cell_type": "code",
      "execution_count": 24,
      "metadata": {
        "colab": {
          "base_uri": "https://localhost:8080/"
        },
        "id": "ebpIfpbROlyy",
        "outputId": "5f28be39-2fec-4329-c680-08f17b8ad455"
      },
      "outputs": [
        {
          "name": "stdout",
          "output_type": "stream",
          "text": [
            "<class 'pandas.core.frame.DataFrame'>\n",
            "RangeIndex: 8123 entries, 0 to 8122\n",
            "Data columns (total 22 columns):\n",
            " #   Column                    Non-Null Count  Dtype \n",
            "---  ------                    --------------  ----- \n",
            " 0   class                     8123 non-null   object\n",
            " 1   cap-shape                 8123 non-null   object\n",
            " 2   cap-surface               8123 non-null   object\n",
            " 3   cap-color                 8123 non-null   object\n",
            " 4   bruises                   8123 non-null   object\n",
            " 5   odor                      8123 non-null   object\n",
            " 6   gill-attachment           8123 non-null   object\n",
            " 7   gill-spacing              8123 non-null   object\n",
            " 8   gill-size                 8123 non-null   object\n",
            " 9   gill-color                8123 non-null   object\n",
            " 10  stalk-shape               8123 non-null   object\n",
            " 11  stalk-root                8123 non-null   object\n",
            " 12  stalk-surface-above-ring  8123 non-null   object\n",
            " 13  stalk-surface-below-ring  8123 non-null   object\n",
            " 14  stalk-color-above-ring    8123 non-null   object\n",
            " 15  stalk-color-below-ring    8123 non-null   object\n",
            " 16  veil-color                8123 non-null   object\n",
            " 17  ring-number               8123 non-null   object\n",
            " 18  ring-type                 8123 non-null   object\n",
            " 19  spore-print-color         8123 non-null   object\n",
            " 20  population                8123 non-null   object\n",
            " 21  habitat                   8123 non-null   object\n",
            "dtypes: object(22)\n",
            "memory usage: 1.4+ MB\n"
          ]
        }
      ],
      "source": [
        "df.info()"
      ]
    },
    {
      "cell_type": "markdown",
      "metadata": {
        "id": "2dX1LM1VQcwK"
      },
      "source": [
        "\n",
        "### <font color=\"#00304E\">**Separar entre variables predictoras y variables a predecir** </font>"
      ]
    },
    {
      "cell_type": "code",
      "execution_count": 25,
      "metadata": {
        "id": "pS9HEA2eQcwK"
      },
      "outputs": [],
      "source": [
        "# La variable que trata de predecir este conjunto de datos es 'class'.\n",
        "X = df.drop(['class'], axis=1)\n",
        "y = df['class']\n"
      ]
    },
    {
      "cell_type": "markdown",
      "metadata": {
        "id": "sN1fZZfZQcwL"
      },
      "source": [
        "### <font color=\"#00304E\">**Codificar correctamente las variables categóricas a numéricas** </font>"
      ]
    },
    {
      "cell_type": "markdown",
      "metadata": {
        "id": "-lo0qnSkenMS"
      },
      "source": [
        "<font color=\"e5b714\">Vamos a usar OneHotEncoder para asignarle un orden más óptimo y porque no tenemos demasiados valores únicos por variables, el máximo son 12, así que me parece viable usarlo.</font>"
      ]
    },
    {
      "cell_type": "code",
      "execution_count": 26,
      "metadata": {
        "id": "-4l92dfEQcwL"
      },
      "outputs": [],
      "source": [
        "# One Hot Encoder (una linea).\n",
        "X_encoded = OneHotEncoder(sparse_output=False).fit_transform(X)"
      ]
    },
    {
      "cell_type": "markdown",
      "metadata": {
        "id": "RBBAM0bzQcwL"
      },
      "source": [
        "### <font color=\"#00304E\">**Train test split** </font>"
      ]
    },
    {
      "cell_type": "code",
      "execution_count": 27,
      "metadata": {
        "id": "hHxqeJQqQcwL"
      },
      "outputs": [],
      "source": [
        "# Os lo dejamos a todos igual\n",
        "X_train, X_test, y_train, y_test = train_test_split(X_encoded, y, test_size=0.33, random_state=42)"
      ]
    },
    {
      "cell_type": "markdown",
      "metadata": {
        "id": "3sL57bzCQcwL"
      },
      "source": [
        "## <font color=\"#00304E\">**PCA** </font>"
      ]
    },
    {
      "cell_type": "markdown",
      "metadata": {
        "id": "uhAhJqbKQcwM"
      },
      "source": [
        "Es un conjunto de datos del que aún no hemos visto nada (no tenemos graficas) así que vamos a hacer algunas. Tenemos el problema de que son muchas variables, **PCA al rescate**: le pedimos que nos de dos dimensiones y las pintamos, sabemos que serán **aquellas que retengan más información**."
      ]
    },
    {
      "cell_type": "markdown",
      "metadata": {
        "id": "zuiPfa7zlLY4"
      },
      "source": [
        "<font color=\"e5b714\">PCA es una forma de resumir muchos datos sin perder mucha información, es decir transforma los datos originales en un nuevo conjunto de componentes que resumen la mayor parte de la información (varianza) de los datos en menos dimensiones.</font>"
      ]
    },
    {
      "cell_type": "code",
      "execution_count": 28,
      "metadata": {
        "colab": {
          "base_uri": "https://localhost:8080/",
          "height": 80
        },
        "id": "3232KSn9QcwM",
        "outputId": "110b0865-7ac6-40a5-c0c3-4fd96274a0cf",
        "scrolled": true
      },
      "outputs": [
        {
          "data": {
            "text/html": [
              "<style>#sk-container-id-1 {\n",
              "  /* Definition of color scheme common for light and dark mode */\n",
              "  --sklearn-color-text: #000;\n",
              "  --sklearn-color-text-muted: #666;\n",
              "  --sklearn-color-line: gray;\n",
              "  /* Definition of color scheme for unfitted estimators */\n",
              "  --sklearn-color-unfitted-level-0: #fff5e6;\n",
              "  --sklearn-color-unfitted-level-1: #f6e4d2;\n",
              "  --sklearn-color-unfitted-level-2: #ffe0b3;\n",
              "  --sklearn-color-unfitted-level-3: chocolate;\n",
              "  /* Definition of color scheme for fitted estimators */\n",
              "  --sklearn-color-fitted-level-0: #f0f8ff;\n",
              "  --sklearn-color-fitted-level-1: #d4ebff;\n",
              "  --sklearn-color-fitted-level-2: #b3dbfd;\n",
              "  --sklearn-color-fitted-level-3: cornflowerblue;\n",
              "\n",
              "  /* Specific color for light theme */\n",
              "  --sklearn-color-text-on-default-background: var(--sg-text-color, var(--theme-code-foreground, var(--jp-content-font-color1, black)));\n",
              "  --sklearn-color-background: var(--sg-background-color, var(--theme-background, var(--jp-layout-color0, white)));\n",
              "  --sklearn-color-border-box: var(--sg-text-color, var(--theme-code-foreground, var(--jp-content-font-color1, black)));\n",
              "  --sklearn-color-icon: #696969;\n",
              "\n",
              "  @media (prefers-color-scheme: dark) {\n",
              "    /* Redefinition of color scheme for dark theme */\n",
              "    --sklearn-color-text-on-default-background: var(--sg-text-color, var(--theme-code-foreground, var(--jp-content-font-color1, white)));\n",
              "    --sklearn-color-background: var(--sg-background-color, var(--theme-background, var(--jp-layout-color0, #111)));\n",
              "    --sklearn-color-border-box: var(--sg-text-color, var(--theme-code-foreground, var(--jp-content-font-color1, white)));\n",
              "    --sklearn-color-icon: #878787;\n",
              "  }\n",
              "}\n",
              "\n",
              "#sk-container-id-1 {\n",
              "  color: var(--sklearn-color-text);\n",
              "}\n",
              "\n",
              "#sk-container-id-1 pre {\n",
              "  padding: 0;\n",
              "}\n",
              "\n",
              "#sk-container-id-1 input.sk-hidden--visually {\n",
              "  border: 0;\n",
              "  clip: rect(1px 1px 1px 1px);\n",
              "  clip: rect(1px, 1px, 1px, 1px);\n",
              "  height: 1px;\n",
              "  margin: -1px;\n",
              "  overflow: hidden;\n",
              "  padding: 0;\n",
              "  position: absolute;\n",
              "  width: 1px;\n",
              "}\n",
              "\n",
              "#sk-container-id-1 div.sk-dashed-wrapped {\n",
              "  border: 1px dashed var(--sklearn-color-line);\n",
              "  margin: 0 0.4em 0.5em 0.4em;\n",
              "  box-sizing: border-box;\n",
              "  padding-bottom: 0.4em;\n",
              "  background-color: var(--sklearn-color-background);\n",
              "}\n",
              "\n",
              "#sk-container-id-1 div.sk-container {\n",
              "  /* jupyter's `normalize.less` sets `[hidden] { display: none; }`\n",
              "     but bootstrap.min.css set `[hidden] { display: none !important; }`\n",
              "     so we also need the `!important` here to be able to override the\n",
              "     default hidden behavior on the sphinx rendered scikit-learn.org.\n",
              "     See: https://github.com/scikit-learn/scikit-learn/issues/21755 */\n",
              "  display: inline-block !important;\n",
              "  position: relative;\n",
              "}\n",
              "\n",
              "#sk-container-id-1 div.sk-text-repr-fallback {\n",
              "  display: none;\n",
              "}\n",
              "\n",
              "div.sk-parallel-item,\n",
              "div.sk-serial,\n",
              "div.sk-item {\n",
              "  /* draw centered vertical line to link estimators */\n",
              "  background-image: linear-gradient(var(--sklearn-color-text-on-default-background), var(--sklearn-color-text-on-default-background));\n",
              "  background-size: 2px 100%;\n",
              "  background-repeat: no-repeat;\n",
              "  background-position: center center;\n",
              "}\n",
              "\n",
              "/* Parallel-specific style estimator block */\n",
              "\n",
              "#sk-container-id-1 div.sk-parallel-item::after {\n",
              "  content: \"\";\n",
              "  width: 100%;\n",
              "  border-bottom: 2px solid var(--sklearn-color-text-on-default-background);\n",
              "  flex-grow: 1;\n",
              "}\n",
              "\n",
              "#sk-container-id-1 div.sk-parallel {\n",
              "  display: flex;\n",
              "  align-items: stretch;\n",
              "  justify-content: center;\n",
              "  background-color: var(--sklearn-color-background);\n",
              "  position: relative;\n",
              "}\n",
              "\n",
              "#sk-container-id-1 div.sk-parallel-item {\n",
              "  display: flex;\n",
              "  flex-direction: column;\n",
              "}\n",
              "\n",
              "#sk-container-id-1 div.sk-parallel-item:first-child::after {\n",
              "  align-self: flex-end;\n",
              "  width: 50%;\n",
              "}\n",
              "\n",
              "#sk-container-id-1 div.sk-parallel-item:last-child::after {\n",
              "  align-self: flex-start;\n",
              "  width: 50%;\n",
              "}\n",
              "\n",
              "#sk-container-id-1 div.sk-parallel-item:only-child::after {\n",
              "  width: 0;\n",
              "}\n",
              "\n",
              "/* Serial-specific style estimator block */\n",
              "\n",
              "#sk-container-id-1 div.sk-serial {\n",
              "  display: flex;\n",
              "  flex-direction: column;\n",
              "  align-items: center;\n",
              "  background-color: var(--sklearn-color-background);\n",
              "  padding-right: 1em;\n",
              "  padding-left: 1em;\n",
              "}\n",
              "\n",
              "\n",
              "/* Toggleable style: style used for estimator/Pipeline/ColumnTransformer box that is\n",
              "clickable and can be expanded/collapsed.\n",
              "- Pipeline and ColumnTransformer use this feature and define the default style\n",
              "- Estimators will overwrite some part of the style using the `sk-estimator` class\n",
              "*/\n",
              "\n",
              "/* Pipeline and ColumnTransformer style (default) */\n",
              "\n",
              "#sk-container-id-1 div.sk-toggleable {\n",
              "  /* Default theme specific background. It is overwritten whether we have a\n",
              "  specific estimator or a Pipeline/ColumnTransformer */\n",
              "  background-color: var(--sklearn-color-background);\n",
              "}\n",
              "\n",
              "/* Toggleable label */\n",
              "#sk-container-id-1 label.sk-toggleable__label {\n",
              "  cursor: pointer;\n",
              "  display: flex;\n",
              "  width: 100%;\n",
              "  margin-bottom: 0;\n",
              "  padding: 0.5em;\n",
              "  box-sizing: border-box;\n",
              "  text-align: center;\n",
              "  align-items: start;\n",
              "  justify-content: space-between;\n",
              "  gap: 0.5em;\n",
              "}\n",
              "\n",
              "#sk-container-id-1 label.sk-toggleable__label .caption {\n",
              "  font-size: 0.6rem;\n",
              "  font-weight: lighter;\n",
              "  color: var(--sklearn-color-text-muted);\n",
              "}\n",
              "\n",
              "#sk-container-id-1 label.sk-toggleable__label-arrow:before {\n",
              "  /* Arrow on the left of the label */\n",
              "  content: \"▸\";\n",
              "  float: left;\n",
              "  margin-right: 0.25em;\n",
              "  color: var(--sklearn-color-icon);\n",
              "}\n",
              "\n",
              "#sk-container-id-1 label.sk-toggleable__label-arrow:hover:before {\n",
              "  color: var(--sklearn-color-text);\n",
              "}\n",
              "\n",
              "/* Toggleable content - dropdown */\n",
              "\n",
              "#sk-container-id-1 div.sk-toggleable__content {\n",
              "  max-height: 0;\n",
              "  max-width: 0;\n",
              "  overflow: hidden;\n",
              "  text-align: left;\n",
              "  /* unfitted */\n",
              "  background-color: var(--sklearn-color-unfitted-level-0);\n",
              "}\n",
              "\n",
              "#sk-container-id-1 div.sk-toggleable__content.fitted {\n",
              "  /* fitted */\n",
              "  background-color: var(--sklearn-color-fitted-level-0);\n",
              "}\n",
              "\n",
              "#sk-container-id-1 div.sk-toggleable__content pre {\n",
              "  margin: 0.2em;\n",
              "  border-radius: 0.25em;\n",
              "  color: var(--sklearn-color-text);\n",
              "  /* unfitted */\n",
              "  background-color: var(--sklearn-color-unfitted-level-0);\n",
              "}\n",
              "\n",
              "#sk-container-id-1 div.sk-toggleable__content.fitted pre {\n",
              "  /* unfitted */\n",
              "  background-color: var(--sklearn-color-fitted-level-0);\n",
              "}\n",
              "\n",
              "#sk-container-id-1 input.sk-toggleable__control:checked~div.sk-toggleable__content {\n",
              "  /* Expand drop-down */\n",
              "  max-height: 200px;\n",
              "  max-width: 100%;\n",
              "  overflow: auto;\n",
              "}\n",
              "\n",
              "#sk-container-id-1 input.sk-toggleable__control:checked~label.sk-toggleable__label-arrow:before {\n",
              "  content: \"▾\";\n",
              "}\n",
              "\n",
              "/* Pipeline/ColumnTransformer-specific style */\n",
              "\n",
              "#sk-container-id-1 div.sk-label input.sk-toggleable__control:checked~label.sk-toggleable__label {\n",
              "  color: var(--sklearn-color-text);\n",
              "  background-color: var(--sklearn-color-unfitted-level-2);\n",
              "}\n",
              "\n",
              "#sk-container-id-1 div.sk-label.fitted input.sk-toggleable__control:checked~label.sk-toggleable__label {\n",
              "  background-color: var(--sklearn-color-fitted-level-2);\n",
              "}\n",
              "\n",
              "/* Estimator-specific style */\n",
              "\n",
              "/* Colorize estimator box */\n",
              "#sk-container-id-1 div.sk-estimator input.sk-toggleable__control:checked~label.sk-toggleable__label {\n",
              "  /* unfitted */\n",
              "  background-color: var(--sklearn-color-unfitted-level-2);\n",
              "}\n",
              "\n",
              "#sk-container-id-1 div.sk-estimator.fitted input.sk-toggleable__control:checked~label.sk-toggleable__label {\n",
              "  /* fitted */\n",
              "  background-color: var(--sklearn-color-fitted-level-2);\n",
              "}\n",
              "\n",
              "#sk-container-id-1 div.sk-label label.sk-toggleable__label,\n",
              "#sk-container-id-1 div.sk-label label {\n",
              "  /* The background is the default theme color */\n",
              "  color: var(--sklearn-color-text-on-default-background);\n",
              "}\n",
              "\n",
              "/* On hover, darken the color of the background */\n",
              "#sk-container-id-1 div.sk-label:hover label.sk-toggleable__label {\n",
              "  color: var(--sklearn-color-text);\n",
              "  background-color: var(--sklearn-color-unfitted-level-2);\n",
              "}\n",
              "\n",
              "/* Label box, darken color on hover, fitted */\n",
              "#sk-container-id-1 div.sk-label.fitted:hover label.sk-toggleable__label.fitted {\n",
              "  color: var(--sklearn-color-text);\n",
              "  background-color: var(--sklearn-color-fitted-level-2);\n",
              "}\n",
              "\n",
              "/* Estimator label */\n",
              "\n",
              "#sk-container-id-1 div.sk-label label {\n",
              "  font-family: monospace;\n",
              "  font-weight: bold;\n",
              "  display: inline-block;\n",
              "  line-height: 1.2em;\n",
              "}\n",
              "\n",
              "#sk-container-id-1 div.sk-label-container {\n",
              "  text-align: center;\n",
              "}\n",
              "\n",
              "/* Estimator-specific */\n",
              "#sk-container-id-1 div.sk-estimator {\n",
              "  font-family: monospace;\n",
              "  border: 1px dotted var(--sklearn-color-border-box);\n",
              "  border-radius: 0.25em;\n",
              "  box-sizing: border-box;\n",
              "  margin-bottom: 0.5em;\n",
              "  /* unfitted */\n",
              "  background-color: var(--sklearn-color-unfitted-level-0);\n",
              "}\n",
              "\n",
              "#sk-container-id-1 div.sk-estimator.fitted {\n",
              "  /* fitted */\n",
              "  background-color: var(--sklearn-color-fitted-level-0);\n",
              "}\n",
              "\n",
              "/* on hover */\n",
              "#sk-container-id-1 div.sk-estimator:hover {\n",
              "  /* unfitted */\n",
              "  background-color: var(--sklearn-color-unfitted-level-2);\n",
              "}\n",
              "\n",
              "#sk-container-id-1 div.sk-estimator.fitted:hover {\n",
              "  /* fitted */\n",
              "  background-color: var(--sklearn-color-fitted-level-2);\n",
              "}\n",
              "\n",
              "/* Specification for estimator info (e.g. \"i\" and \"?\") */\n",
              "\n",
              "/* Common style for \"i\" and \"?\" */\n",
              "\n",
              ".sk-estimator-doc-link,\n",
              "a:link.sk-estimator-doc-link,\n",
              "a:visited.sk-estimator-doc-link {\n",
              "  float: right;\n",
              "  font-size: smaller;\n",
              "  line-height: 1em;\n",
              "  font-family: monospace;\n",
              "  background-color: var(--sklearn-color-background);\n",
              "  border-radius: 1em;\n",
              "  height: 1em;\n",
              "  width: 1em;\n",
              "  text-decoration: none !important;\n",
              "  margin-left: 0.5em;\n",
              "  text-align: center;\n",
              "  /* unfitted */\n",
              "  border: var(--sklearn-color-unfitted-level-1) 1pt solid;\n",
              "  color: var(--sklearn-color-unfitted-level-1);\n",
              "}\n",
              "\n",
              ".sk-estimator-doc-link.fitted,\n",
              "a:link.sk-estimator-doc-link.fitted,\n",
              "a:visited.sk-estimator-doc-link.fitted {\n",
              "  /* fitted */\n",
              "  border: var(--sklearn-color-fitted-level-1) 1pt solid;\n",
              "  color: var(--sklearn-color-fitted-level-1);\n",
              "}\n",
              "\n",
              "/* On hover */\n",
              "div.sk-estimator:hover .sk-estimator-doc-link:hover,\n",
              ".sk-estimator-doc-link:hover,\n",
              "div.sk-label-container:hover .sk-estimator-doc-link:hover,\n",
              ".sk-estimator-doc-link:hover {\n",
              "  /* unfitted */\n",
              "  background-color: var(--sklearn-color-unfitted-level-3);\n",
              "  color: var(--sklearn-color-background);\n",
              "  text-decoration: none;\n",
              "}\n",
              "\n",
              "div.sk-estimator.fitted:hover .sk-estimator-doc-link.fitted:hover,\n",
              ".sk-estimator-doc-link.fitted:hover,\n",
              "div.sk-label-container:hover .sk-estimator-doc-link.fitted:hover,\n",
              ".sk-estimator-doc-link.fitted:hover {\n",
              "  /* fitted */\n",
              "  background-color: var(--sklearn-color-fitted-level-3);\n",
              "  color: var(--sklearn-color-background);\n",
              "  text-decoration: none;\n",
              "}\n",
              "\n",
              "/* Span, style for the box shown on hovering the info icon */\n",
              ".sk-estimator-doc-link span {\n",
              "  display: none;\n",
              "  z-index: 9999;\n",
              "  position: relative;\n",
              "  font-weight: normal;\n",
              "  right: .2ex;\n",
              "  padding: .5ex;\n",
              "  margin: .5ex;\n",
              "  width: min-content;\n",
              "  min-width: 20ex;\n",
              "  max-width: 50ex;\n",
              "  color: var(--sklearn-color-text);\n",
              "  box-shadow: 2pt 2pt 4pt #999;\n",
              "  /* unfitted */\n",
              "  background: var(--sklearn-color-unfitted-level-0);\n",
              "  border: .5pt solid var(--sklearn-color-unfitted-level-3);\n",
              "}\n",
              "\n",
              ".sk-estimator-doc-link.fitted span {\n",
              "  /* fitted */\n",
              "  background: var(--sklearn-color-fitted-level-0);\n",
              "  border: var(--sklearn-color-fitted-level-3);\n",
              "}\n",
              "\n",
              ".sk-estimator-doc-link:hover span {\n",
              "  display: block;\n",
              "}\n",
              "\n",
              "/* \"?\"-specific style due to the `<a>` HTML tag */\n",
              "\n",
              "#sk-container-id-1 a.estimator_doc_link {\n",
              "  float: right;\n",
              "  font-size: 1rem;\n",
              "  line-height: 1em;\n",
              "  font-family: monospace;\n",
              "  background-color: var(--sklearn-color-background);\n",
              "  border-radius: 1rem;\n",
              "  height: 1rem;\n",
              "  width: 1rem;\n",
              "  text-decoration: none;\n",
              "  /* unfitted */\n",
              "  color: var(--sklearn-color-unfitted-level-1);\n",
              "  border: var(--sklearn-color-unfitted-level-1) 1pt solid;\n",
              "}\n",
              "\n",
              "#sk-container-id-1 a.estimator_doc_link.fitted {\n",
              "  /* fitted */\n",
              "  border: var(--sklearn-color-fitted-level-1) 1pt solid;\n",
              "  color: var(--sklearn-color-fitted-level-1);\n",
              "}\n",
              "\n",
              "/* On hover */\n",
              "#sk-container-id-1 a.estimator_doc_link:hover {\n",
              "  /* unfitted */\n",
              "  background-color: var(--sklearn-color-unfitted-level-3);\n",
              "  color: var(--sklearn-color-background);\n",
              "  text-decoration: none;\n",
              "}\n",
              "\n",
              "#sk-container-id-1 a.estimator_doc_link.fitted:hover {\n",
              "  /* fitted */\n",
              "  background-color: var(--sklearn-color-fitted-level-3);\n",
              "}\n",
              "</style><div id=\"sk-container-id-1\" class=\"sk-top-container\"><div class=\"sk-text-repr-fallback\"><pre>PCA(n_components=2)</pre><b>In a Jupyter environment, please rerun this cell to show the HTML representation or trust the notebook. <br />On GitHub, the HTML representation is unable to render, please try loading this page with nbviewer.org.</b></div><div class=\"sk-container\" hidden><div class=\"sk-item\"><div class=\"sk-estimator fitted sk-toggleable\"><input class=\"sk-toggleable__control sk-hidden--visually\" id=\"sk-estimator-id-1\" type=\"checkbox\" checked><label for=\"sk-estimator-id-1\" class=\"sk-toggleable__label fitted sk-toggleable__label-arrow\"><div><div>PCA</div></div><div><a class=\"sk-estimator-doc-link fitted\" rel=\"noreferrer\" target=\"_blank\" href=\"https://scikit-learn.org/1.6/modules/generated/sklearn.decomposition.PCA.html\">?<span>Documentation for PCA</span></a><span class=\"sk-estimator-doc-link fitted\">i<span>Fitted</span></span></div></label><div class=\"sk-toggleable__content fitted\"><pre>PCA(n_components=2)</pre></div> </div></div></div></div>"
            ],
            "text/plain": [
              "PCA(n_components=2)"
            ]
          },
          "execution_count": 28,
          "metadata": {},
          "output_type": "execute_result"
        }
      ],
      "source": [
        "pca =  PCA(n_components=2)\n",
        "pca.fit(X_train)"
      ]
    },
    {
      "cell_type": "code",
      "execution_count": 29,
      "metadata": {
        "colab": {
          "base_uri": "https://localhost:8080/"
        },
        "id": "gpKKZJnNpBKD",
        "outputId": "53fcb0fd-f38f-416d-c06d-309df4db3c3b"
      },
      "outputs": [
        {
          "name": "stdout",
          "output_type": "stream",
          "text": [
            "[[-0.89804909  2.60381372]\n",
            " [ 1.43613726  0.21345338]\n",
            " [ 0.46751351 -0.60728239]\n",
            " ...\n",
            " [ 1.51381282 -0.23257086]\n",
            " [-0.22236912  0.34224571]\n",
            " [ 0.58557492 -0.59524381]]\n"
          ]
        }
      ],
      "source": [
        "X_train_pca=pca.transform(X_train)\n",
        "print(X_train_pca)"
      ]
    },
    {
      "cell_type": "markdown",
      "metadata": {
        "id": "P_VCIt4OoBL0"
      },
      "source": [
        "### <font color=\"#00304E\">**Representar en un scatterplot y poner en color las etiquetas de entrenamiento** </font>\n",
        "\n"
      ]
    },
    {
      "cell_type": "code",
      "execution_count": 30,
      "metadata": {
        "colab": {
          "base_uri": "https://localhost:8080/",
          "height": 564
        },
        "id": "ESnCC9aRpPAe",
        "outputId": "23de810e-41d1-401d-f3cb-86296a265ef3"
      },
      "outputs": [
        {
          "data": {
            "image/png": "[encoded data removed]",
            "text/plain": [
              "<Figure size 800x600 with 2 Axes>"
            ]
          },
          "metadata": {},
          "output_type": "display_data"
        }
      ],
      "source": [
        "plt.figure(figsize=(8, 6))\n",
        "scatter = plt.scatter(X_train_pca[:, 0], X_train_pca[:, 1], c=y_train.map({'e':0, 'p':1}), cmap='plasma', alpha=0.7)\n",
        "plt.xlabel('Principal 1')\n",
        "plt.ylabel('Principal 2')\n",
        "plt.title('PCA de datos de entrenamiento setas')\n",
        "plt.colorbar(scatter, ticks=[0, 1], label='Clase (e=0, p=1)')\n",
        "plt.show()"
      ]
    },
    {
      "cell_type": "markdown",
      "metadata": {
        "id": "9itWFlxIxaZH"
      },
      "source": [
        "<font color=\"e5b714\">Resumen scatterplot: el color amarillo(1) representa a que es venenosa y el color azul(0) representa a las comestibles,se ven manchas separadas, aunque no perfectamente separadas, hay zonas dominadas por las manchas amarillas, y hay zonas mezcladas</font>"
      ]
    },
    {
      "cell_type": "markdown",
      "metadata": {
        "id": "DMYH_Hv0QcwM"
      },
      "source": [
        "Parece que está bastante separadito, parece que a ojo mucho se puede ver :)"
      ]
    },
    {
      "cell_type": "markdown",
      "metadata": {
        "id": "7Ey9_bUTucUJ"
      },
      "source": [
        "<font color=\"e5b714\">Vamos a transformar también las de test</font>"
      ]
    },
    {
      "cell_type": "code",
      "execution_count": 31,
      "metadata": {
        "id": "2iwB-gKI1Sl_"
      },
      "outputs": [],
      "source": [
        "X_test_pca = pca.transform(X_test)"
      ]
    },
    {
      "cell_type": "markdown",
      "metadata": {
        "id": "QdE0AvlKQcwM"
      },
      "source": [
        "\n",
        "<font color=\"#00304E\">**Igualmente, vamos a entrenar un clasificador a ver qué tal lo hace antes de editar más** </font>"
      ]
    },
    {
      "cell_type": "code",
      "execution_count": 32,
      "metadata": {
        "id": "Xd3MsML41i-8"
      },
      "outputs": [],
      "source": [
        "# 1. Definir el clasificador y el número de estimadores\n",
        "classifier = RandomForestClassifier(n_estimators=50, random_state=42)"
      ]
    },
    {
      "cell_type": "code",
      "execution_count": 33,
      "metadata": {
        "colab": {
          "base_uri": "https://localhost:8080/",
          "height": 80
        },
        "id": "hPhf2RyI1kNP",
        "outputId": "17e0be3e-ef6c-470a-8420-fb1cf0ba0a64"
      },
      "outputs": [
        {
          "data": {
            "text/html": [
              "<style>#sk-container-id-2 {\n",
              "  /* Definition of color scheme common for light and dark mode */\n",
              "  --sklearn-color-text: #000;\n",
              "  --sklearn-color-text-muted: #666;\n",
              "  --sklearn-color-line: gray;\n",
              "  /* Definition of color scheme for unfitted estimators */\n",
              "  --sklearn-color-unfitted-level-0: #fff5e6;\n",
              "  --sklearn-color-unfitted-level-1: #f6e4d2;\n",
              "  --sklearn-color-unfitted-level-2: #ffe0b3;\n",
              "  --sklearn-color-unfitted-level-3: chocolate;\n",
              "  /* Definition of color scheme for fitted estimators */\n",
              "  --sklearn-color-fitted-level-0: #f0f8ff;\n",
              "  --sklearn-color-fitted-level-1: #d4ebff;\n",
              "  --sklearn-color-fitted-level-2: #b3dbfd;\n",
              "  --sklearn-color-fitted-level-3: cornflowerblue;\n",
              "\n",
              "  /* Specific color for light theme */\n",
              "  --sklearn-color-text-on-default-background: var(--sg-text-color, var(--theme-code-foreground, var(--jp-content-font-color1, black)));\n",
              "  --sklearn-color-background: var(--sg-background-color, var(--theme-background, var(--jp-layout-color0, white)));\n",
              "  --sklearn-color-border-box: var(--sg-text-color, var(--theme-code-foreground, var(--jp-content-font-color1, black)));\n",
              "  --sklearn-color-icon: #696969;\n",
              "\n",
              "  @media (prefers-color-scheme: dark) {\n",
              "    /* Redefinition of color scheme for dark theme */\n",
              "    --sklearn-color-text-on-default-background: var(--sg-text-color, var(--theme-code-foreground, var(--jp-content-font-color1, white)));\n",
              "    --sklearn-color-background: var(--sg-background-color, var(--theme-background, var(--jp-layout-color0, #111)));\n",
              "    --sklearn-color-border-box: var(--sg-text-color, var(--theme-code-foreground, var(--jp-content-font-color1, white)));\n",
              "    --sklearn-color-icon: #878787;\n",
              "  }\n",
              "}\n",
              "\n",
              "#sk-container-id-2 {\n",
              "  color: var(--sklearn-color-text);\n",
              "}\n",
              "\n",
              "#sk-container-id-2 pre {\n",
              "  padding: 0;\n",
              "}\n",
              "\n",
              "#sk-container-id-2 input.sk-hidden--visually {\n",
              "  border: 0;\n",
              "  clip: rect(1px 1px 1px 1px);\n",
              "  clip: rect(1px, 1px, 1px, 1px);\n",
              "  height: 1px;\n",
              "  margin: -1px;\n",
              "  overflow: hidden;\n",
              "  padding: 0;\n",
              "  position: absolute;\n",
              "  width: 1px;\n",
              "}\n",
              "\n",
              "#sk-container-id-2 div.sk-dashed-wrapped {\n",
              "  border: 1px dashed var(--sklearn-color-line);\n",
              "  margin: 0 0.4em 0.5em 0.4em;\n",
              "  box-sizing: border-box;\n",
              "  padding-bottom: 0.4em;\n",
              "  background-color: var(--sklearn-color-background);\n",
              "}\n",
              "\n",
              "#sk-container-id-2 div.sk-container {\n",
              "  /* jupyter's `normalize.less` sets `[hidden] { display: none; }`\n",
              "     but bootstrap.min.css set `[hidden] { display: none !important; }`\n",
              "     so we also need the `!important` here to be able to override the\n",
              "     default hidden behavior on the sphinx rendered scikit-learn.org.\n",
              "     See: https://github.com/scikit-learn/scikit-learn/issues/21755 */\n",
              "  display: inline-block !important;\n",
              "  position: relative;\n",
              "}\n",
              "\n",
              "#sk-container-id-2 div.sk-text-repr-fallback {\n",
              "  display: none;\n",
              "}\n",
              "\n",
              "div.sk-parallel-item,\n",
              "div.sk-serial,\n",
              "div.sk-item {\n",
              "  /* draw centered vertical line to link estimators */\n",
              "  background-image: linear-gradient(var(--sklearn-color-text-on-default-background), var(--sklearn-color-text-on-default-background));\n",
              "  background-size: 2px 100%;\n",
              "  background-repeat: no-repeat;\n",
              "  background-position: center center;\n",
              "}\n",
              "\n",
              "/* Parallel-specific style estimator block */\n",
              "\n",
              "#sk-container-id-2 div.sk-parallel-item::after {\n",
              "  content: \"\";\n",
              "  width: 100%;\n",
              "  border-bottom: 2px solid var(--sklearn-color-text-on-default-background);\n",
              "  flex-grow: 1;\n",
              "}\n",
              "\n",
              "#sk-container-id-2 div.sk-parallel {\n",
              "  display: flex;\n",
              "  align-items: stretch;\n",
              "  justify-content: center;\n",
              "  background-color: var(--sklearn-color-background);\n",
              "  position: relative;\n",
              "}\n",
              "\n",
              "#sk-container-id-2 div.sk-parallel-item {\n",
              "  display: flex;\n",
              "  flex-direction: column;\n",
              "}\n",
              "\n",
              "#sk-container-id-2 div.sk-parallel-item:first-child::after {\n",
              "  align-self: flex-end;\n",
              "  width: 50%;\n",
              "}\n",
              "\n",
              "#sk-container-id-2 div.sk-parallel-item:last-child::after {\n",
              "  align-self: flex-start;\n",
              "  width: 50%;\n",
              "}\n",
              "\n",
              "#sk-container-id-2 div.sk-parallel-item:only-child::after {\n",
              "  width: 0;\n",
              "}\n",
              "\n",
              "/* Serial-specific style estimator block */\n",
              "\n",
              "#sk-container-id-2 div.sk-serial {\n",
              "  display: flex;\n",
              "  flex-direction: column;\n",
              "  align-items: center;\n",
              "  background-color: var(--sklearn-color-background);\n",
              "  padding-right: 1em;\n",
              "  padding-left: 1em;\n",
              "}\n",
              "\n",
              "\n",
              "/* Toggleable style: style used for estimator/Pipeline/ColumnTransformer box that is\n",
              "clickable and can be expanded/collapsed.\n",
              "- Pipeline and ColumnTransformer use this feature and define the default style\n",
              "- Estimators will overwrite some part of the style using the `sk-estimator` class\n",
              "*/\n",
              "\n",
              "/* Pipeline and ColumnTransformer style (default) */\n",
              "\n",
              "#sk-container-id-2 div.sk-toggleable {\n",
              "  /* Default theme specific background. It is overwritten whether we have a\n",
              "  specific estimator or a Pipeline/ColumnTransformer */\n",
              "  background-color: var(--sklearn-color-background);\n",
              "}\n",
              "\n",
              "/* Toggleable label */\n",
              "#sk-container-id-2 label.sk-toggleable__label {\n",
              "  cursor: pointer;\n",
              "  display: flex;\n",
              "  width: 100%;\n",
              "  margin-bottom: 0;\n",
              "  padding: 0.5em;\n",
              "  box-sizing: border-box;\n",
              "  text-align: center;\n",
              "  align-items: start;\n",
              "  justify-content: space-between;\n",
              "  gap: 0.5em;\n",
              "}\n",
              "\n",
              "#sk-container-id-2 label.sk-toggleable__label .caption {\n",
              "  font-size: 0.6rem;\n",
              "  font-weight: lighter;\n",
              "  color: var(--sklearn-color-text-muted);\n",
              "}\n",
              "\n",
              "#sk-container-id-2 label.sk-toggleable__label-arrow:before {\n",
              "  /* Arrow on the left of the label */\n",
              "  content: \"▸\";\n",
              "  float: left;\n",
              "  margin-right: 0.25em;\n",
              "  color: var(--sklearn-color-icon);\n",
              "}\n",
              "\n",
              "#sk-container-id-2 label.sk-toggleable__label-arrow:hover:before {\n",
              "  color: var(--sklearn-color-text);\n",
              "}\n",
              "\n",
              "/* Toggleable content - dropdown */\n",
              "\n",
              "#sk-container-id-2 div.sk-toggleable__content {\n",
              "  max-height: 0;\n",
              "  max-width: 0;\n",
              "  overflow: hidden;\n",
              "  text-align: left;\n",
              "  /* unfitted */\n",
              "  background-color: var(--sklearn-color-unfitted-level-0);\n",
              "}\n",
              "\n",
              "#sk-container-id-2 div.sk-toggleable__content.fitted {\n",
              "  /* fitted */\n",
              "  background-color: var(--sklearn-color-fitted-level-0);\n",
              "}\n",
              "\n",
              "#sk-container-id-2 div.sk-toggleable__content pre {\n",
              "  margin: 0.2em;\n",
              "  border-radius: 0.25em;\n",
              "  color: var(--sklearn-color-text);\n",
              "  /* unfitted */\n",
              "  background-color: var(--sklearn-color-unfitted-level-0);\n",
              "}\n",
              "\n",
              "#sk-container-id-2 div.sk-toggleable__content.fitted pre {\n",
              "  /* unfitted */\n",
              "  background-color: var(--sklearn-color-fitted-level-0);\n",
              "}\n",
              "\n",
              "#sk-container-id-2 input.sk-toggleable__control:checked~div.sk-toggleable__content {\n",
              "  /* Expand drop-down */\n",
              "  max-height: 200px;\n",
              "  max-width: 100%;\n",
              "  overflow: auto;\n",
              "}\n",
              "\n",
              "#sk-container-id-2 input.sk-toggleable__control:checked~label.sk-toggleable__label-arrow:before {\n",
              "  content: \"▾\";\n",
              "}\n",
              "\n",
              "/* Pipeline/ColumnTransformer-specific style */\n",
              "\n",
              "#sk-container-id-2 div.sk-label input.sk-toggleable__control:checked~label.sk-toggleable__label {\n",
              "  color: var(--sklearn-color-text);\n",
              "  background-color: var(--sklearn-color-unfitted-level-2);\n",
              "}\n",
              "\n",
              "#sk-container-id-2 div.sk-label.fitted input.sk-toggleable__control:checked~label.sk-toggleable__label {\n",
              "  background-color: var(--sklearn-color-fitted-level-2);\n",
              "}\n",
              "\n",
              "/* Estimator-specific style */\n",
              "\n",
              "/* Colorize estimator box */\n",
              "#sk-container-id-2 div.sk-estimator input.sk-toggleable__control:checked~label.sk-toggleable__label {\n",
              "  /* unfitted */\n",
              "  background-color: var(--sklearn-color-unfitted-level-2);\n",
              "}\n",
              "\n",
              "#sk-container-id-2 div.sk-estimator.fitted input.sk-toggleable__control:checked~label.sk-toggleable__label {\n",
              "  /* fitted */\n",
              "  background-color: var(--sklearn-color-fitted-level-2);\n",
              "}\n",
              "\n",
              "#sk-container-id-2 div.sk-label label.sk-toggleable__label,\n",
              "#sk-container-id-2 div.sk-label label {\n",
              "  /* The background is the default theme color */\n",
              "  color: var(--sklearn-color-text-on-default-background);\n",
              "}\n",
              "\n",
              "/* On hover, darken the color of the background */\n",
              "#sk-container-id-2 div.sk-label:hover label.sk-toggleable__label {\n",
              "  color: var(--sklearn-color-text);\n",
              "  background-color: var(--sklearn-color-unfitted-level-2);\n",
              "}\n",
              "\n",
              "/* Label box, darken color on hover, fitted */\n",
              "#sk-container-id-2 div.sk-label.fitted:hover label.sk-toggleable__label.fitted {\n",
              "  color: var(--sklearn-color-text);\n",
              "  background-color: var(--sklearn-color-fitted-level-2);\n",
              "}\n",
              "\n",
              "/* Estimator label */\n",
              "\n",
              "#sk-container-id-2 div.sk-label label {\n",
              "  font-family: monospace;\n",
              "  font-weight: bold;\n",
              "  display: inline-block;\n",
              "  line-height: 1.2em;\n",
              "}\n",
              "\n",
              "#sk-container-id-2 div.sk-label-container {\n",
              "  text-align: center;\n",
              "}\n",
              "\n",
              "/* Estimator-specific */\n",
              "#sk-container-id-2 div.sk-estimator {\n",
              "  font-family: monospace;\n",
              "  border: 1px dotted var(--sklearn-color-border-box);\n",
              "  border-radius: 0.25em;\n",
              "  box-sizing: border-box;\n",
              "  margin-bottom: 0.5em;\n",
              "  /* unfitted */\n",
              "  background-color: var(--sklearn-color-unfitted-level-0);\n",
              "}\n",
              "\n",
              "#sk-container-id-2 div.sk-estimator.fitted {\n",
              "  /* fitted */\n",
              "  background-color: var(--sklearn-color-fitted-level-0);\n",
              "}\n",
              "\n",
              "/* on hover */\n",
              "#sk-container-id-2 div.sk-estimator:hover {\n",
              "  /* unfitted */\n",
              "  background-color: var(--sklearn-color-unfitted-level-2);\n",
              "}\n",
              "\n",
              "#sk-container-id-2 div.sk-estimator.fitted:hover {\n",
              "  /* fitted */\n",
              "  background-color: var(--sklearn-color-fitted-level-2);\n",
              "}\n",
              "\n",
              "/* Specification for estimator info (e.g. \"i\" and \"?\") */\n",
              "\n",
              "/* Common style for \"i\" and \"?\" */\n",
              "\n",
              ".sk-estimator-doc-link,\n",
              "a:link.sk-estimator-doc-link,\n",
              "a:visited.sk-estimator-doc-link {\n",
              "  float: right;\n",
              "  font-size: smaller;\n",
              "  line-height: 1em;\n",
              "  font-family: monospace;\n",
              "  background-color: var(--sklearn-color-background);\n",
              "  border-radius: 1em;\n",
              "  height: 1em;\n",
              "  width: 1em;\n",
              "  text-decoration: none !important;\n",
              "  margin-left: 0.5em;\n",
              "  text-align: center;\n",
              "  /* unfitted */\n",
              "  border: var(--sklearn-color-unfitted-level-1) 1pt solid;\n",
              "  color: var(--sklearn-color-unfitted-level-1);\n",
              "}\n",
              "\n",
              ".sk-estimator-doc-link.fitted,\n",
              "a:link.sk-estimator-doc-link.fitted,\n",
              "a:visited.sk-estimator-doc-link.fitted {\n",
              "  /* fitted */\n",
              "  border: var(--sklearn-color-fitted-level-1) 1pt solid;\n",
              "  color: var(--sklearn-color-fitted-level-1);\n",
              "}\n",
              "\n",
              "/* On hover */\n",
              "div.sk-estimator:hover .sk-estimator-doc-link:hover,\n",
              ".sk-estimator-doc-link:hover,\n",
              "div.sk-label-container:hover .sk-estimator-doc-link:hover,\n",
              ".sk-estimator-doc-link:hover {\n",
              "  /* unfitted */\n",
              "  background-color: var(--sklearn-color-unfitted-level-3);\n",
              "  color: var(--sklearn-color-background);\n",
              "  text-decoration: none;\n",
              "}\n",
              "\n",
              "div.sk-estimator.fitted:hover .sk-estimator-doc-link.fitted:hover,\n",
              ".sk-estimator-doc-link.fitted:hover,\n",
              "div.sk-label-container:hover .sk-estimator-doc-link.fitted:hover,\n",
              ".sk-estimator-doc-link.fitted:hover {\n",
              "  /* fitted */\n",
              "  background-color: var(--sklearn-color-fitted-level-3);\n",
              "  color: var(--sklearn-color-background);\n",
              "  text-decoration: none;\n",
              "}\n",
              "\n",
              "/* Span, style for the box shown on hovering the info icon */\n",
              ".sk-estimator-doc-link span {\n",
              "  display: none;\n",
              "  z-index: 9999;\n",
              "  position: relative;\n",
              "  font-weight: normal;\n",
              "  right: .2ex;\n",
              "  padding: .5ex;\n",
              "  margin: .5ex;\n",
              "  width: min-content;\n",
              "  min-width: 20ex;\n",
              "  max-width: 50ex;\n",
              "  color: var(--sklearn-color-text);\n",
              "  box-shadow: 2pt 2pt 4pt #999;\n",
              "  /* unfitted */\n",
              "  background: var(--sklearn-color-unfitted-level-0);\n",
              "  border: .5pt solid var(--sklearn-color-unfitted-level-3);\n",
              "}\n",
              "\n",
              ".sk-estimator-doc-link.fitted span {\n",
              "  /* fitted */\n",
              "  background: var(--sklearn-color-fitted-level-0);\n",
              "  border: var(--sklearn-color-fitted-level-3);\n",
              "}\n",
              "\n",
              ".sk-estimator-doc-link:hover span {\n",
              "  display: block;\n",
              "}\n",
              "\n",
              "/* \"?\"-specific style due to the `<a>` HTML tag */\n",
              "\n",
              "#sk-container-id-2 a.estimator_doc_link {\n",
              "  float: right;\n",
              "  font-size: 1rem;\n",
              "  line-height: 1em;\n",
              "  font-family: monospace;\n",
              "  background-color: var(--sklearn-color-background);\n",
              "  border-radius: 1rem;\n",
              "  height: 1rem;\n",
              "  width: 1rem;\n",
              "  text-decoration: none;\n",
              "  /* unfitted */\n",
              "  color: var(--sklearn-color-unfitted-level-1);\n",
              "  border: var(--sklearn-color-unfitted-level-1) 1pt solid;\n",
              "}\n",
              "\n",
              "#sk-container-id-2 a.estimator_doc_link.fitted {\n",
              "  /* fitted */\n",
              "  border: var(--sklearn-color-fitted-level-1) 1pt solid;\n",
              "  color: var(--sklearn-color-fitted-level-1);\n",
              "}\n",
              "\n",
              "/* On hover */\n",
              "#sk-container-id-2 a.estimator_doc_link:hover {\n",
              "  /* unfitted */\n",
              "  background-color: var(--sklearn-color-unfitted-level-3);\n",
              "  color: var(--sklearn-color-background);\n",
              "  text-decoration: none;\n",
              "}\n",
              "\n",
              "#sk-container-id-2 a.estimator_doc_link.fitted:hover {\n",
              "  /* fitted */\n",
              "  background-color: var(--sklearn-color-fitted-level-3);\n",
              "}\n",
              "</style><div id=\"sk-container-id-2\" class=\"sk-top-container\"><div class=\"sk-text-repr-fallback\"><pre>RandomForestClassifier(n_estimators=50, random_state=42)</pre><b>In a Jupyter environment, please rerun this cell to show the HTML representation or trust the notebook. <br />On GitHub, the HTML representation is unable to render, please try loading this page with nbviewer.org.</b></div><div class=\"sk-container\" hidden><div class=\"sk-item\"><div class=\"sk-estimator fitted sk-toggleable\"><input class=\"sk-toggleable__control sk-hidden--visually\" id=\"sk-estimator-id-2\" type=\"checkbox\" checked><label for=\"sk-estimator-id-2\" class=\"sk-toggleable__label fitted sk-toggleable__label-arrow\"><div><div>RandomForestClassifier</div></div><div><a class=\"sk-estimator-doc-link fitted\" rel=\"noreferrer\" target=\"_blank\" href=\"https://scikit-learn.org/1.6/modules/generated/sklearn.ensemble.RandomForestClassifier.html\">?<span>Documentation for RandomForestClassifier</span></a><span class=\"sk-estimator-doc-link fitted\">i<span>Fitted</span></span></div></label><div class=\"sk-toggleable__content fitted\"><pre>RandomForestClassifier(n_estimators=50, random_state=42)</pre></div> </div></div></div></div>"
            ],
            "text/plain": [
              "RandomForestClassifier(n_estimators=50, random_state=42)"
            ]
          },
          "execution_count": 33,
          "metadata": {},
          "output_type": "execute_result"
        }
      ],
      "source": [
        "# 2. Entrenar en train\n",
        "classifier.fit(X_train_pca, y_train)\n",
        "# classifier.fit(X_train, y_train)"
      ]
    },
    {
      "cell_type": "code",
      "execution_count": 34,
      "metadata": {
        "colab": {
          "base_uri": "https://localhost:8080/"
        },
        "id": "-gSdw7Mk7e0m",
        "outputId": "7bbe8c16-5acf-4cb2-a86f-6e62d25a612d"
      },
      "outputs": [
        {
          "name": "stdout",
          "output_type": "stream",
          "text": [
            "Precisión en el conjunto de prueba: 0.9615814994405073\n"
          ]
        }
      ],
      "source": [
        "# 3. Calcular la precisión sobre test\n",
        "y_pred = classifier.predict(X_test_pca)\n",
        "accuracy = accuracy_score(y_test, y_pred)\n",
        "print(f\"Precisión en el conjunto de prueba: {accuracy}\")\n",
        "# y_pred = classifier.predict(X_test)\n",
        "# accuracy = accuracy_score(y_test, y_pred)\n",
        "# print(f\"Precisión en el conjunto de prueba: {accuracy}\")"
      ]
    },
    {
      "cell_type": "markdown",
      "metadata": {
        "id": "CMWepedz7866"
      },
      "source": [
        "<font color=\"e5b714\">Resumen: hemos entrenado con los datos ya aplicando el PCA, nos da una precisión del 96,16% lo que es bastante buena, aunque también hemos probado y dejamos comentada la prueba sin el PCA aplicado y el accuracy es bastante perfecto, un 100%.</font>"
      ]
    },
    {
      "cell_type": "markdown",
      "metadata": {
        "id": "PACQlU5_QcwM"
      },
      "source": [
        "Es un conjunto sencillo y Random Forest es muy bueno en su trabajo, Igualmente, vamos a ver qué tamaño tenemos de dataset:\n"
      ]
    },
    {
      "cell_type": "code",
      "execution_count": 35,
      "metadata": {
        "colab": {
          "base_uri": "https://localhost:8080/"
        },
        "id": "ODibK0D2QcwN",
        "outputId": "1230b70f-7186-4181-8e5a-0f4f3d45f2a8"
      },
      "outputs": [
        {
          "data": {
            "text/plain": [
              "(5442, 116)"
            ]
          },
          "execution_count": 35,
          "metadata": {},
          "output_type": "execute_result"
        }
      ],
      "source": [
        "#X_train_pca.shape\n",
        "X_train.shape"
      ]
    },
    {
      "cell_type": "markdown",
      "metadata": {
        "id": "fDkiO1LZvMxB"
      },
      "source": [
        "<font color=\"e5b714\">Como ya hemos aplicado el PCA nos salen simplemente 2 dimensiones, que es lo que nos pedían, sin aplicar el PCA, nos saldrían 116, que son muchísimas columnas, así que vamos a probar con diferentes números de componentes, como nos piden, para ver el efecto en la precisión.</font>"
      ]
    },
    {
      "cell_type": "markdown",
      "metadata": {
        "id": "_rEVhvRaQcwN"
      },
      "source": [
        "¿Muchas features no? Vamos a reducir las usando PCA."
      ]
    },
    {
      "cell_type": "markdown",
      "metadata": {
        "id": "9p4YNepNx4cQ"
      },
      "source": [
        "<font color=\"e5b714\">Volvemos a definir PCA pero ya dentro del bucle con todos los pasos que nos piden, definimos un rango para que empiece desde el 1 y vaya de 10 en 10, para que vaya probando.</font>"
      ]
    },
    {
      "cell_type": "code",
      "execution_count": 36,
      "metadata": {
        "colab": {
          "base_uri": "https://localhost:8080/",
          "height": 982
        },
        "id": "V96Hwd-w-0-V",
        "outputId": "145fa0d5-0305-4268-8fd7-282651b9bde9"
      },
      "outputs": [
        {
          "name": "stdout",
          "output_type": "stream",
          "text": [
            "Entrenando con 1 componentes principales...\n",
            "Precisión con 1 componentes: 0.8859\n",
            "Entrenando con 11 componentes principales...\n",
            "Precisión con 11 componentes: 1.0000\n",
            "Entrenando con 21 componentes principales...\n",
            "Precisión con 21 componentes: 1.0000\n",
            "Entrenando con 31 componentes principales...\n",
            "Precisión con 31 componentes: 1.0000\n",
            "Entrenando con 41 componentes principales...\n",
            "Precisión con 41 componentes: 1.0000\n",
            "Entrenando con 51 componentes principales...\n",
            "Precisión con 51 componentes: 1.0000\n",
            "Entrenando con 61 componentes principales...\n",
            "Precisión con 61 componentes: 1.0000\n",
            "Entrenando con 71 componentes principales...\n",
            "Precisión con 71 componentes: 1.0000\n",
            "Entrenando con 81 componentes principales...\n",
            "Precisión con 81 componentes: 1.0000\n",
            "Entrenando con 91 componentes principales...\n",
            "Precisión con 91 componentes: 1.0000\n",
            "Entrenando con 101 componentes principales...\n",
            "Precisión con 101 componentes: 1.0000\n",
            "Entrenando con 111 componentes principales...\n",
            "Precisión con 111 componentes: 1.0000\n"
          ]
        },
        {
          "data": {
            "image/png": "[encoded data removed]",
            "text/plain": [
              "<Figure size 1000x600 with 1 Axes>"
            ]
          },
          "metadata": {},
          "output_type": "display_data"
        }
      ],
      "source": [
        "n_features = range(1, X_train.shape[1] + 1, 10)\n",
        "scores = []\n",
        "\n",
        "for n in n_features:\n",
        "    print(f\"Entrenando con {n} componentes principales...\")\n",
        "\n",
        "    # Hacer PCA sobre X_train\n",
        "    # 1. Definir PCA\n",
        "    pca = PCA(n, random_state=42)\n",
        "    # 2. Aprender PCA sobre X_train y transformar los datos de entrenamiento y prueba\n",
        "    X_train_pca = pca.fit_transform(X_train)\n",
        "    X_test_pca = pca.transform(X_test)\n",
        "\n",
        "    # Entrenar Random Forest\n",
        "    # 1. Definir el RF\n",
        "    classifier = RandomForestClassifier(n_estimators=100, random_state=42)\n",
        "    # 2. Entrenar clasificador\n",
        "    classifier.fit(X_train_pca, y_train)\n",
        "\n",
        "    # Realizar predicciones en el conjunto de prueba\n",
        "    y_pred = classifier.predict(X_test_pca)\n",
        "\n",
        "    # Calcular la precisión y guardarla\n",
        "    accuracy = accuracy_score(y_test, y_pred)\n",
        "    scores.append(accuracy)\n",
        "    print(f\"Precisión con {n} componentes: {accuracy:.4f}\")\n",
        "\n",
        "# Visualizar los resultados\n",
        "plt.figure(figsize=(10, 6))\n",
        "sns.lineplot(x=list(n_features), y=scores, marker='o')\n",
        "plt.xlabel('Número de Componentes Principales (n_components)')\n",
        "plt.ylabel('Precisión en el Conjunto de Prueba')\n",
        "plt.title('Precisión del RandomForest vs. Número de Componentes Principales')\n",
        "plt.grid(True)\n",
        "plt.show()"
      ]
    },
    {
      "cell_type": "markdown",
      "metadata": {
        "id": "dKjl6aHiQcwN"
      },
      "source": [
        "Vale, estamos viendo que a partir de unas 10 features ya tenemos el score que queríamos y además hemos reducido las variables a un 10% de las que teníamos, incluso menos que las variables originales."
      ]
    },
    {
      "cell_type": "markdown",
      "metadata": {
        "id": "dH2wkuMxygzJ"
      },
      "source": [
        "<font color=\"e5b714\">Como dice en el texto, a partir de 11 el modelo RandomForest ya alcanaza el score perfecto, de 100%, es decir sólo necesitamos 11 para recoger toda la información relevante para nuestra clasificación. </font>"
      ]
    },
    {
      "cell_type": "code",
      "execution_count": 37,
      "metadata": {},
      "outputs": [
        {
          "name": "stdout",
          "output_type": "stream",
          "text": [
            "[[ 2.82030076e-02 -9.43003427e-05  1.19732070e-02 ... -1.00370609e-01\n",
            "   1.86398229e-02  3.27161260e-03]\n",
            " [-8.57215997e-03 -1.38458398e-04  4.60234993e-02 ...  4.34290799e-02\n",
            "  -9.01952831e-03 -1.18983489e-02]\n",
            " [-5.07423091e-02 -3.92268546e-04  7.22440892e-02 ...  1.60979863e-02\n",
            "  -1.76837483e-02 -8.50640109e-03]\n",
            " ...\n",
            " [ 1.94044855e-02 -1.47598580e-03 -1.67842130e-01 ...  3.75596925e-02\n",
            "  -2.34609209e-02  3.89863497e-02]\n",
            " [ 3.85465442e-02 -6.91545000e-04  1.23899518e-02 ...  4.11586563e-02\n",
            "  -7.11980801e-03 -1.65815922e-02]\n",
            " [ 6.54982363e-02 -3.70694242e-04  1.37758996e-02 ...  3.18358747e-02\n",
            "  -5.53862157e-02 -3.17085973e-02]]\n"
          ]
        }
      ],
      "source": [
        "pca = PCA(n_components=11)\n",
        "pca.fit(X_train)\n",
        "print(pca.components_)"
      ]
    },
    {
      "cell_type": "code",
      "execution_count": null,
      "metadata": {},
      "outputs": [
        {
          "name": "stdout",
          "output_type": "stream",
          "text": [
            "[ 93  20  21  37 101]\n"
          ]
        }
      ],
      "source": [
        "component_1 = pca.components_[0]\n",
        "top_features = np.argsort(np.abs(component_1))[::-1][:5]\n",
        "print(top_features)"
      ]
    },
    {
      "cell_type": "code",
      "execution_count": null,
      "metadata": {},
      "outputs": [
        {
          "name": "stdout",
          "output_type": "stream",
          "text": [
            "ring-type_p\n",
            "bruises_f\n",
            "bruises_t\n",
            "gill-color_b\n",
            "spore-print-color_w\n"
          ]
        }
      ],
      "source": [
        "\n",
        "X_encoded = OneHotEncoder(sparse_output=False)\n",
        "X_encoded.fit(X)\n",
        "\n",
        "# Queremos ver cuáles son las variables más influyentes\n",
        "feature_names = X_encoded.get_feature_names_out(X.columns)\n",
        "\n",
        "for idx in top_features:\n",
        "    print(feature_names[idx])"
      ]
    },
    {
      "cell_type": "markdown",
      "metadata": {
        "id": "2Jvqa-leQcwN"
      },
      "source": [
        "## Clustering"
      ]
    },
    {
      "cell_type": "markdown",
      "metadata": {
        "id": "VWiMHKUdQcwN"
      },
      "source": [
        "Viendo que el conjunto de datos es sencillito, podemos intentar hacer algo de clustering a ver qué información podemos obtener.\n",
        "\n",
        "El primer paso va a ser importar la función de Kmeans de sklearn, y a partir de ahi, vamos a buscar el valor óptimo de clusters. Como hemos visto anteriormente, este valor lo obtenemos, por ejemplo, del codo de la gráfica que representa el total de las distancias de los puntos a los centros de los clusters asociados. Os dejo la página de la documentación de sklearn para que lo busquéis:\n",
        "\n",
        "[K-Means on sklearn](https://scikit-learn.org/stable/modules/generated/sklearn.cluster.KMeans.html)\n",
        "\n",
        "Con esto solo hay que ahora generar los modelos de kmeans, evaluar y pintar la gráfica para los valores de ``k`` que establezcais.\n",
        "\n",
        "\n"
      ]
    },
    {
      "cell_type": "code",
      "execution_count": 46,
      "metadata": {
        "colab": {
          "base_uri": "https://localhost:8080/",
          "height": 472
        },
        "id": "DV0IXFncQcwO",
        "outputId": "b1cd196c-ef64-4e73-dd0f-a45b4e17eeba"
      },
      "outputs": [
        {
          "data": {
            "image/png": "[encoded data removed]",
            "text/plain": [
              "<Figure size 640x480 with 1 Axes>"
            ]
          },
          "metadata": {},
          "output_type": "display_data"
        }
      ],
      "source": [
        "scores = []\n",
        "k_values = range(1, 11)\n",
        "for a in k_values:\n",
        "    kmeans = KMeans(n_clusters=a, random_state=42, n_init=10)\n",
        "    kmeans.fit(X_train)\n",
        "    scores.append(kmeans.inertia_)\n",
        "\n",
        "sns.lineplot(x=k_values, y=scores, markers='o')\n",
        "plt.title('Método del codo para elegir k en KMeans')\n",
        "plt.xlabel('Número de clusters')\n",
        "plt.ylabel('% de varianza')\n",
        "plt.grid(True)\n",
        "plt.show()"
      ]
    },
    {
      "cell_type": "markdown",
      "metadata": {
        "id": "1yMQY6CPiqHE"
      },
      "source": [
        "<font color=\"e5b714\">Resumen: Yo creo que el 'codo' está en el 4 aproximadamente, luego empieza a aplanarse.</font>"
      ]
    },
    {
      "cell_type": "markdown",
      "metadata": {
        "id": "OSgPG286QcwO"
      },
      "source": [
        "Con el valor que hayáis obtenido de la gráfica, podéis obtener una buena aproximación de Kmeans y con ello podemos pasar a explorar cómo de bien han separado la información los distintos clusters. Para ello, se va a hacer un ``catplot``, seaborn os lo hará solito. Con esto lo que se pretende ver es la distribución de la varaible a predecir en función del cluster que haya determinado Kmeans."
      ]
    },
    {
      "cell_type": "code",
      "execution_count": 34,
      "metadata": {
        "id": "Wa7XfETyQcwO",
        "scrolled": false
      },
      "outputs": [],
      "source": [
        "# Aprender Kmeans con el valor de K obtenido.\n",
        "\n",
        "kmeans = KMeans(n_clusters=4, random_state=42, n_init=10)\n",
        "clusters = kmeans.fit_predict(X_train)"
      ]
    },
    {
      "cell_type": "code",
      "execution_count": 35,
      "metadata": {
        "id": "7bifxUkYiqHG"
      },
      "outputs": [],
      "source": [
        "# Preparar el catplot.\n",
        "df_clusters = pd.DataFrame({\n",
        "    'cluster': clusters,\n",
        "    'class': y_train.values\n",
        "})"
      ]
    },
    {
      "cell_type": "code",
      "execution_count": 36,
      "metadata": {
        "colab": {
          "base_uri": "https://localhost:8080/",
          "height": 506
        },
        "id": "dHOMEP1eiqHG",
        "outputId": "71372eda-f7aa-45d1-cb15-7aeaf174ff28"
      },
      "outputs": [
        {
          "data": {
            "image/png": "[encoded data removed]",
            "text/plain": [
              "<Figure size 558.875x500 with 1 Axes>"
            ]
          },
          "metadata": {},
          "output_type": "display_data"
        }
      ],
      "source": [
        "# Pintar.\n",
        "ax = sns.catplot(x='cluster', hue='class', data=df_clusters, kind='count')"
      ]
    },
    {
      "cell_type": "markdown",
      "metadata": {
        "id": "JzMUKFwzQcwO"
      },
      "source": [
        "Vamos a ver qué tal queda esto pintado. Para ello, repetimos el scatterplot de antes pero usando como color el cluster asignado por kmeans."
      ]
    },
    {
      "cell_type": "code",
      "execution_count": 37,
      "metadata": {
        "colab": {
          "base_uri": "https://localhost:8080/",
          "height": 564
        },
        "id": "03PVoUruiqHH",
        "outputId": "72af8ad1-2c5e-4195-8ea9-b2b29c085067"
      },
      "outputs": [
        {
          "data": {
            "image/png": "[encoded data removed]",
            "text/plain": [
              "<Figure size 800x600 with 2 Axes>"
            ]
          },
          "metadata": {},
          "output_type": "display_data"
        }
      ],
      "source": [
        "plt.figure(figsize=(8, 6))\n",
        "scatter = plt.scatter(X_train_pca[:, 0], X_train_pca[:, 1], c=clusters, cmap='tab10', alpha=0.7)\n",
        "plt.xlabel('Principal 1')\n",
        "plt.ylabel('Principal 2')\n",
        "plt.title('PCA de datos de entrenamiento coloreado por cluster KMeans')\n",
        "plt.colorbar(scatter, ticks=range(4), label='Cluster')\n",
        "plt.show()"
      ]
    },
    {
      "cell_type": "markdown",
      "metadata": {
        "id": "v0q-ZDhQQcwO"
      },
      "source": [
        "¿Es bastante parecido no? No es tan bueno como el Random Forest, pero ha conseguido identificar bastante bien los distintos puntos del dataset sin utilizar las etiquetas. De hecho, el diagrama de factor que hemos visto antes muestra que solo un par de clusters son imprecisos. Si no hubieramos tenido etiquetas esta aproximacion nos hubiera ayudado mucho a clasificar los distintos tipos de hongos."
      ]
    },
    {
      "cell_type": "markdown",
      "metadata": {
        "id": "Gn9vyjZCiqHI"
      },
      "source": [
        "<font color=\"e5b714\">Resumen: KMeans ha conseguido separar bastante bien los puntos, aunque es mejor RandomForest, si no tuviéramos las etiquetas nos serviría mucho.</font>"
      ]
    }
  ],
  "metadata": {
    "colab": {
      "provenance": []
    },
    "kernelspec": {
      "display_name": ".venv",
      "language": "python",
      "name": "python3"
    },
    "language_info": {
      "codemirror_mode": {
        "name": "ipython",
        "version": 3
      },
      "file_extension": ".py",
      "mimetype": "text/x-python",
      "name": "python",
      "nbconvert_exporter": "python",
      "pygments_lexer": "ipython3",
      "version": "3.12.1"
    }
  },
  "nbformat": 4,
  "nbformat_minor": 0
}
